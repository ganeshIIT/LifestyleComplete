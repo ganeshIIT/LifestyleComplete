{
 "cells": [
  {
   "cell_type": "code",
   "execution_count": 1,
   "metadata": {},
   "outputs": [],
   "source": [
    "import xmltodict\n",
    "import re\n",
    "\n",
    "import numpy as np\n",
    "import pandas as pd\n",
    "import matplotlib.pyplot as plt\n",
    "import seaborn as sns\n",
    "\n",
    "import helper\n",
    "import dataloader"
   ]
  },
  {
   "cell_type": "code",
   "execution_count": 2,
   "metadata": {},
   "outputs": [],
   "source": [
    "def labelcleaner(df):\n",
    "    df.columns = [\n",
    "        helper._cleanlabel(col) for col in df.columns\n",
    "    ]\n",
    "    if df.index.name:\n",
    "        df.index.rename(\n",
    "            helper._cleanlabel(df.index.name),\n",
    "            inplace=True\n",
    "        )\n",
    "    return df"
   ]
  },
  {
   "cell_type": "code",
   "execution_count": 3,
   "metadata": {},
   "outputs": [],
   "source": [
    "health_datapath = '/Users/ganesh/Library/Mobile Documents/com~apple~CloudDocs/SharedFolder/export.xml'\n",
    "sleep_datapath = '/Users/ganesh/Library/Mobile Documents/com~apple~CloudDocs/SharedFolder/AutoSleep.csv'"
   ]
  },
  {
   "cell_type": "code",
   "execution_count": 4,
   "metadata": {},
   "outputs": [],
   "source": [
    "with open(health_datapath, 'r', errors='ignore') as xml_file:\n",
    "    health = xmltodict.parse(xml_file.read())\n",
    "    "
   ]
  },
  {
   "cell_type": "code",
   "execution_count": 5,
   "metadata": {},
   "outputs": [],
   "source": [
    "healthrecords = health['HealthData']['Record']\n",
    "workoutrecords = health['HealthData']['Workout']"
   ]
  },
  {
   "cell_type": "code",
   "execution_count": 6,
   "metadata": {},
   "outputs": [],
   "source": [
    "healthdata = pd.DataFrame(healthrecords)\n",
    "workoutdata = pd.DataFrame(workoutrecords)\n",
    "sleepdata = pd.read_csv(sleep_datapath)"
   ]
  },
  {
   "cell_type": "code",
   "execution_count": 7,
   "metadata": {},
   "outputs": [],
   "source": [
    "health_rawsample = healthdata.sample(1000)\n",
    "workout_rawsample = workoutdata.copy()\n",
    "sleep_rawsample = sleepdata.copy()"
   ]
  },
  {
   "cell_type": "code",
   "execution_count": 8,
   "metadata": {},
   "outputs": [
    {
     "name": "stdout",
     "output_type": "stream",
     "text": [
      "<class 'pandas.core.frame.DataFrame'>\n",
      "Int64Index: 1000 entries, 757838 to 430192\n",
      "Data columns (total 11 columns):\n",
      " #   Column                            Non-Null Count  Dtype \n",
      "---  ------                            --------------  ----- \n",
      " 0   @type                             1000 non-null   object\n",
      " 1   @sourceName                       1000 non-null   object\n",
      " 2   @sourceVersion                    1000 non-null   object\n",
      " 3   @unit                             990 non-null    object\n",
      " 4   @creationDate                     1000 non-null   object\n",
      " 5   @startDate                        1000 non-null   object\n",
      " 6   @endDate                          1000 non-null   object\n",
      " 7   @value                            1000 non-null   object\n",
      " 8   @device                           965 non-null    object\n",
      " 9   MetadataEntry                     177 non-null    object\n",
      " 10  HeartRateVariabilityMetadataList  3 non-null      object\n",
      "dtypes: object(11)\n",
      "memory usage: 93.8+ KB\n",
      "<class 'pandas.core.frame.DataFrame'>\n",
      "RangeIndex: 362 entries, 0 to 361\n",
      "Data columns (total 16 columns):\n",
      " #   Column                  Non-Null Count  Dtype \n",
      "---  ------                  --------------  ----- \n",
      " 0   @workoutActivityType    362 non-null    object\n",
      " 1   @duration               362 non-null    object\n",
      " 2   @durationUnit           362 non-null    object\n",
      " 3   @totalDistance          362 non-null    object\n",
      " 4   @totalDistanceUnit      362 non-null    object\n",
      " 5   @totalEnergyBurned      362 non-null    object\n",
      " 6   @totalEnergyBurnedUnit  362 non-null    object\n",
      " 7   @sourceName             362 non-null    object\n",
      " 8   @sourceVersion          362 non-null    object\n",
      " 9   @device                 300 non-null    object\n",
      " 10  @creationDate           362 non-null    object\n",
      " 11  @startDate              362 non-null    object\n",
      " 12  @endDate                362 non-null    object\n",
      " 13  MetadataEntry           300 non-null    object\n",
      " 14  WorkoutEvent            32 non-null     object\n",
      " 15  WorkoutRoute            33 non-null     object\n",
      "dtypes: object(16)\n",
      "memory usage: 45.4+ KB\n",
      "<class 'pandas.core.frame.DataFrame'>\n",
      "RangeIndex: 333 entries, 0 to 332\n",
      "Data columns (total 35 columns):\n",
      " #   Column          Non-Null Count  Dtype  \n",
      "---  ------          --------------  -----  \n",
      " 0   ISO8601         333 non-null    object \n",
      " 1   fromDate        333 non-null    object \n",
      " 2   toDate          333 non-null    object \n",
      " 3   bedtime         333 non-null    object \n",
      " 4   waketime        333 non-null    object \n",
      " 5   inBed           333 non-null    object \n",
      " 6   awake           333 non-null    object \n",
      " 7   fellAsleepIn    331 non-null    object \n",
      " 8   sessions        333 non-null    int64  \n",
      " 9   asleep          333 non-null    object \n",
      " 10  asleepAvg7      333 non-null    object \n",
      " 11  efficiency      333 non-null    float64\n",
      " 12  efficiencyAvg7  333 non-null    float64\n",
      " 13  quality         331 non-null    object \n",
      " 14  qualityAvg7     331 non-null    object \n",
      " 15  deep            282 non-null    object \n",
      " 16  deepAvg7        282 non-null    object \n",
      " 17  sleepBPM        331 non-null    float64\n",
      " 18  sleepBPMAvg7    331 non-null    float64\n",
      " 19  dayBPM          329 non-null    float64\n",
      " 20  dayBPMAvg7      329 non-null    float64\n",
      " 21  wakingBPM       333 non-null    float64\n",
      " 22  wakingBPMAvg7   333 non-null    float64\n",
      " 23  hrv             333 non-null    int64  \n",
      " 24  hrvAvg7         333 non-null    int64  \n",
      " 25  sleepHRV        330 non-null    float64\n",
      " 26  sleepHRVAvg7    330 non-null    float64\n",
      " 27  SpO2Avg         0 non-null      float64\n",
      " 28  SpO2Min         0 non-null      float64\n",
      " 29  SpO2Max         0 non-null      float64\n",
      " 30  respAvg         331 non-null    float64\n",
      " 31  respMin         331 non-null    float64\n",
      " 32  respMax         331 non-null    float64\n",
      " 33  tags            1 non-null      object \n",
      " 34  notes           0 non-null      float64\n",
      "dtypes: float64(17), int64(3), object(15)\n",
      "memory usage: 91.2+ KB\n"
     ]
    }
   ],
   "source": [
    "health_rawsample.info()\n",
    "workout_rawsample.info()\n",
    "sleep_rawsample.info()"
   ]
  },
  {
   "cell_type": "code",
   "execution_count": 9,
   "metadata": {},
   "outputs": [],
   "source": [
    "healthdata = labelcleaner(healthdata)\n",
    "workoutdata = labelcleaner(workoutdata)\n",
    "sleepdata = labelcleaner(sleepdata)"
   ]
  },
  {
   "cell_type": "code",
   "execution_count": 10,
   "metadata": {},
   "outputs": [
    {
     "data": {
      "text/plain": [
       "Index(['type', 'sourcename', 'sourceversion', 'unit', 'creationdate',\n",
       "       'startdate', 'enddate', 'value', 'device', 'metadataentry',\n",
       "       'heartratevariabilitymetadatalist'],\n",
       "      dtype='object')"
      ]
     },
     "execution_count": 10,
     "metadata": {},
     "output_type": "execute_result"
    }
   ],
   "source": [
    "healthdata.columns"
   ]
  },
  {
   "cell_type": "code",
   "execution_count": 11,
   "metadata": {},
   "outputs": [
    {
     "data": {
      "text/plain": [
       "Index(['workoutactivitytype', 'duration', 'durationunit', 'totaldistance',\n",
       "       'totaldistanceunit', 'totalenergyburned', 'totalenergyburnedunit',\n",
       "       'sourcename', 'sourceversion', 'device', 'creationdate', 'startdate',\n",
       "       'enddate', 'metadataentry', 'workoutevent', 'workoutroute'],\n",
       "      dtype='object')"
      ]
     },
     "execution_count": 11,
     "metadata": {},
     "output_type": "execute_result"
    }
   ],
   "source": [
    "workoutdata.columns"
   ]
  },
  {
   "cell_type": "code",
   "execution_count": 12,
   "metadata": {},
   "outputs": [
    {
     "data": {
      "text/plain": [
       "Index(['iso8601', 'fromdate', 'todate', 'bedtime', 'waketime', 'inbed',\n",
       "       'awake', 'fellasleepin', 'sessions', 'asleep', 'asleepavg7',\n",
       "       'efficiency', 'efficiencyavg7', 'quality', 'qualityavg7', 'deep',\n",
       "       'deepavg7', 'sleepbpm', 'sleepbpmavg7', 'daybpm', 'daybpmavg7',\n",
       "       'wakingbpm', 'wakingbpmavg7', 'hrv', 'hrvavg7', 'sleephrv',\n",
       "       'sleephrvavg7', 'spo2avg', 'spo2min', 'spo2max', 'respavg', 'respmin',\n",
       "       'respmax', 'tags', 'notes'],\n",
       "      dtype='object')"
      ]
     },
     "execution_count": 12,
     "metadata": {},
     "output_type": "execute_result"
    }
   ],
   "source": [
    "sleepdata.columns"
   ]
  },
  {
   "cell_type": "code",
   "execution_count": 13,
   "metadata": {},
   "outputs": [],
   "source": [
    "## Apple health data cleaner\n",
    "## @helper.cleanlabel\n",
    "def cleansehealthdata(df):\n",
    "    return (df\n",
    "     .dropna(thresh = df.shape[0]//4, axis=1)\n",
    "     .rename(columns ={'type': 'datatype'})\n",
    "     .assign(creationdate = lambda x: pd.to_datetime(x['creationdate']).dt.tz_convert(None),\n",
    "             startdate = lambda x: pd.to_datetime(x['startdate']).dt.tz_convert(None),\n",
    "             enddate = lambda x: pd.to_datetime(x['enddate']).dt.tz_convert(None),\n",
    "             datatype = lambda x: x['datatype'].str.replace('HKQuantityTypeIdentifier', ''),\n",
    "             device = lambda x: x['device'].fillna('No device'))\n",
    "     .query(\"value != 'HKCategoryValueSleepAnalysisInBed'\")\n",
    "     .query(\"datatype in ['BodyMassIndex', 'Height', 'BodyMass', 'HeartRate', \\\n",
    "                        'RespiratoryRate', 'BodyFatPercentage', 'LeanBodyMass',\\\n",
    "                        'StepCount', 'DistanceWalkingRunning', 'BasalEnergyBurned',\\\n",
    "                        'ActiveEnergyBurned', 'FlightsClimbed',\\\n",
    "                        'AppleExerciseTime', 'RestingHeartRate', 'VO2Max',\\\n",
    "                        'WalkingHeartRateAverage', 'EnvironmentalAudioExposure',\\\n",
    "                        'HeadphoneAudioExposure', 'WalkingDoubleSupportPercentage',\\\n",
    "                        'SixMinuteWalkTestDistance', 'AppleStandTime', 'WalkingSpeed',\\\n",
    "                        'WalkingStepLength', 'WalkingAsymmetryPercentage',\\\n",
    "                        'HKDataTypeSleepDurationGoal', 'AppleWalkingSteadiness',\\\n",
    "                        'HeartRateVariabilitySDNN'] \")\n",
    "     .dropna()\n",
    "     .astype({'datatype':'category', 'sourcename':'category','value':'float'})\n",
    "     )\n",
    "\n",
    "\n",
    "## Heart watch workout data cleaner\n",
    "## @helper.cleanlabel\n",
    "def cleanseworkoutdata(df):\n",
    "    return (\n",
    "        df\n",
    "        .dropna(thresh = df.shape[0]//4, axis=1)\n",
    "        .drop(['sourceversion'],\n",
    "            axis = 1, errors='ignore')\n",
    "        .rename(columns = {'workoutactivitytype': 'workouttype', 'metadataentry':'workoutname'})\n",
    "        .assign(\n",
    "            workouttype = lambda x: x['workouttype'].str.replace('HKWorkoutActivityType', ''),\n",
    "            workoutname = lambda x: x['workoutname'].apply(lambda x: x.get('@value')if isinstance(x, dict) else 'unknown'),\n",
    "            creationdate = lambda x: pd.to_datetime(x['creationdate']).dt.tz_convert(None),\n",
    "            startdate = lambda x: pd.to_datetime(x['startdate']).dt.tz_convert(None),\n",
    "            enddate = lambda x: pd.to_datetime(x['enddate']).dt.tz_convert(None),\n",
    "            device = lambda x: x['device'].fillna('No device')\n",
    "            )\n",
    "        .astype({'workouttype':'category', 'sourcename':'category', 'workoutname': 'category'})\n",
    "        .astype({'duration':'float', 'totaldistance':'float', 'totalenergyburned': 'float'})\n",
    "        .dropna()\n",
    "        )\n",
    "\n",
    "\n",
    "## Heart watch workout data cleaner\n",
    "## @helper.cleanlabel\n",
    "def cleansesleepdata(df):\n",
    "    return (\n",
    "      df.drop(['asleepavg7','efficiencyavg7','qualityavg7', 'deepavg7', \n",
    "            'sleepbpmavg7',  'daybpmavg7','wakingbpmavg7', 'hrvavg7',\n",
    "            'sleephrvavg7', 'spo2avg', 'spo2min', 'spo2max', 'tags', 'notes'],\n",
    "            axis = 1, errors='ignore')\n",
    "        .dropna(thresh = df.shape[0]//4, axis=1)\n",
    "        .rename(columns ={'iso8601': 'maindate'})\n",
    "        .assign(maindate = lambda x: pd.to_datetime(x['maindate'])\n",
    "                                        .dt.tz_convert(None).dt.normalize(),\n",
    "                fromdate = lambda x: pd.to_datetime(x['fromdate']),\n",
    "                todate = lambda x: pd.to_datetime(x['todate']),\n",
    "                bedtime = lambda x: pd.to_datetime(x['bedtime']),\n",
    "                waketime = lambda x: pd.to_datetime(x['waketime']),\n",
    "                inbed= lambda x: pd.to_timedelta(x['inbed']),\n",
    "                awake= lambda x: pd.to_timedelta(x['awake']),\n",
    "                fellasleepin= lambda x: pd.to_timedelta(x['fellasleepin']),\n",
    "                asleep= lambda x: pd.to_timedelta(x['asleep']),\n",
    "                quality= lambda x: pd.to_timedelta(x['quality']),\n",
    "                deep= lambda x: pd.to_timedelta(x['deep']),\n",
    "                )\n",
    "    )\n",
    "    #return df"
   ]
  },
  {
   "cell_type": "code",
   "execution_count": 14,
   "metadata": {},
   "outputs": [],
   "source": [
    "healthdata = cleansehealthdata(healthdata)\n",
    "workoutdata = cleanseworkoutdata(workoutdata)\n",
    "sleepdata = cleansesleepdata(sleepdata)"
   ]
  },
  {
   "cell_type": "code",
   "execution_count": 15,
   "metadata": {},
   "outputs": [
    {
     "name": "stdout",
     "output_type": "stream",
     "text": [
      "<class 'pandas.core.frame.DataFrame'>\n",
      "Int64Index: 973928 entries, 0 to 986936\n",
      "Data columns (total 9 columns):\n",
      " #   Column         Non-Null Count   Dtype         \n",
      "---  ------         --------------   -----         \n",
      " 0   datatype       973928 non-null  category      \n",
      " 1   sourcename     973928 non-null  category      \n",
      " 2   sourceversion  973928 non-null  object        \n",
      " 3   unit           973928 non-null  object        \n",
      " 4   creationdate   973928 non-null  datetime64[ns]\n",
      " 5   startdate      973928 non-null  datetime64[ns]\n",
      " 6   enddate        973928 non-null  datetime64[ns]\n",
      " 7   value          973928 non-null  float64       \n",
      " 8   device         973928 non-null  object        \n",
      "dtypes: category(2), datetime64[ns](3), float64(1), object(3)\n",
      "memory usage: 61.3+ MB\n"
     ]
    }
   ],
   "source": [
    "healthdata.info()"
   ]
  },
  {
   "cell_type": "code",
   "execution_count": 16,
   "metadata": {},
   "outputs": [
    {
     "name": "stdout",
     "output_type": "stream",
     "text": [
      "<class 'pandas.core.frame.DataFrame'>\n",
      "RangeIndex: 333 entries, 0 to 332\n",
      "Data columns (total 21 columns):\n",
      " #   Column        Non-Null Count  Dtype          \n",
      "---  ------        --------------  -----          \n",
      " 0   maindate      333 non-null    datetime64[ns] \n",
      " 1   fromdate      333 non-null    datetime64[ns] \n",
      " 2   todate        333 non-null    datetime64[ns] \n",
      " 3   bedtime       333 non-null    datetime64[ns] \n",
      " 4   waketime      333 non-null    datetime64[ns] \n",
      " 5   inbed         333 non-null    timedelta64[ns]\n",
      " 6   awake         333 non-null    timedelta64[ns]\n",
      " 7   fellasleepin  331 non-null    timedelta64[ns]\n",
      " 8   sessions      333 non-null    int64          \n",
      " 9   asleep        333 non-null    timedelta64[ns]\n",
      " 10  efficiency    333 non-null    float64        \n",
      " 11  quality       331 non-null    timedelta64[ns]\n",
      " 12  deep          282 non-null    timedelta64[ns]\n",
      " 13  sleepbpm      331 non-null    float64        \n",
      " 14  daybpm        329 non-null    float64        \n",
      " 15  wakingbpm     333 non-null    float64        \n",
      " 16  hrv           333 non-null    int64          \n",
      " 17  sleephrv      330 non-null    float64        \n",
      " 18  respavg       331 non-null    float64        \n",
      " 19  respmin       331 non-null    float64        \n",
      " 20  respmax       331 non-null    float64        \n",
      "dtypes: datetime64[ns](5), float64(8), int64(2), timedelta64[ns](6)\n",
      "memory usage: 54.8 KB\n"
     ]
    }
   ],
   "source": [
    "sleepdata.info()"
   ]
  },
  {
   "cell_type": "code",
   "execution_count": 17,
   "metadata": {},
   "outputs": [
    {
     "name": "stdout",
     "output_type": "stream",
     "text": [
      "<class 'pandas.core.frame.DataFrame'>\n",
      "RangeIndex: 362 entries, 0 to 361\n",
      "Data columns (total 13 columns):\n",
      " #   Column                 Non-Null Count  Dtype         \n",
      "---  ------                 --------------  -----         \n",
      " 0   workouttype            362 non-null    category      \n",
      " 1   duration               362 non-null    float64       \n",
      " 2   durationunit           362 non-null    object        \n",
      " 3   totaldistance          362 non-null    float64       \n",
      " 4   totaldistanceunit      362 non-null    object        \n",
      " 5   totalenergyburned      362 non-null    float64       \n",
      " 6   totalenergyburnedunit  362 non-null    object        \n",
      " 7   sourcename             362 non-null    category      \n",
      " 8   device                 362 non-null    object        \n",
      " 9   creationdate           362 non-null    datetime64[ns]\n",
      " 10  startdate              362 non-null    datetime64[ns]\n",
      " 11  enddate                362 non-null    datetime64[ns]\n",
      " 12  workoutname            362 non-null    category      \n",
      "dtypes: category(3), datetime64[ns](3), float64(3), object(4)\n",
      "memory usage: 31.1+ KB\n"
     ]
    }
   ],
   "source": [
    "workoutdata.info()"
   ]
  },
  {
   "cell_type": "code",
   "execution_count": 18,
   "metadata": {},
   "outputs": [],
   "source": [
    "health_excel = healthdata.sample(10000)\n",
    "workout_excel = workoutdata.copy()\n",
    "sleep_excel = sleepdata.copy()\n",
    "\n",
    "with pd.ExcelWriter(\"lifestyle.xlsx\") as writer:\n",
    "    health_excel.to_excel(writer, sheet_name=\"health\", index=False)\n",
    "    workout_excel.to_excel(writer, sheet_name=\"workout\", index=False)\n",
    "    sleep_excel.to_excel(writer, sheet_name=\"sleep\", index=False)"
   ]
  },
  {
   "cell_type": "code",
   "execution_count": null,
   "metadata": {},
   "outputs": [],
   "source": []
  },
  {
   "cell_type": "code",
   "execution_count": 19,
   "metadata": {},
   "outputs": [],
   "source": [
    "\n",
    "dayMerged = (\n",
    "    (healthdata\n",
    "        .assign(creationdate = lambda x: x.creationdate.dt.normalize())\n",
    "        .query(\"datatype in ['BodyMassIndex', 'Height', 'BodyMass', 'HeartRate', \\\n",
    "                                'RespiratoryRate', 'BodyFatPercentage', 'LeanBodyMass',\\\n",
    "                                'RestingHeartRate', 'VO2Max',\\\n",
    "                                'WalkingHeartRateAverage', 'EnvironmentalAudioExposure',\\\n",
    "                                'HeadphoneAudioExposure', 'WalkingDoubleSupportPercentage',\\\n",
    "                                'SixMinuteWalkTestDistance','WalkingSpeed',\\\n",
    "                                'WalkingStepLength', 'WalkingAsymmetryPercentage',\\\n",
    "                                'HKDataTypeSleepDurationGoal', 'AppleWalkingSteadiness',\\\n",
    "                                'HeartRateVariabilitySDNN'] \")\n",
    "        .groupby(['creationdate', 'datatype'],observed =True)['value'].mean().unstack()\n",
    "    )\n",
    "    ## merging the two DFs side by side\n",
    "    .merge(\n",
    "            (healthdata\n",
    "                .assign(creationdate = lambda x: x.creationdate.dt.normalize())\n",
    "                .query(\"datatype in ['StepCount', 'DistanceWalkingRunning', 'BasalEnergyBurned',\\\n",
    "                                        'ActiveEnergyBurned', 'FlightsClimbed',\\\n",
    "                                        'AppleExerciseTime',\\\n",
    "                                        'AppleStandTime']\")\n",
    "                .groupby(['creationdate', 'datatype'], observed =True)['value'].sum().unstack()\n",
    "            ),\n",
    "           how='outer', left_index=True, right_index=True\n",
    "    )\n",
    "    .merge(\n",
    "        (sleepdata\n",
    "            .rename(columns={'maindate':'creationdate'})\n",
    "            .set_index('creationdate')\n",
    "        ),\n",
    "        how='left', left_index=True, right_index=True\n",
    "    )\n",
    "    .merge(\n",
    "        (workoutdata.set_index('creationdate')\n",
    "            .groupby(pd.Grouper(freq='1D'))[['duration', 'totaldistance','totalenergyburned']]\n",
    "            .sum()\n",
    "        ),how='left', left_index=True, right_index=True\n",
    "    )\n",
    "    .merge(\n",
    "        (healthdata\n",
    "        .assign(creationdate = lambda x: x.creationdate.dt.normalize())\n",
    "        .query(\"datatype in ['HeartRate','HeartRateVariabilitySDNN'] \")\n",
    "        .groupby(['creationdate', 'datatype'],observed =True)['value'].agg(['min', 'max']).unstack()\n",
    "        .pipe(helper.flatten_cols)\n",
    "        ),how='left', left_index=True, right_index=True\n",
    "    )\n",
    ")\n"
   ]
  },
  {
   "cell_type": "code",
   "execution_count": 20,
   "metadata": {},
   "outputs": [
    {
     "name": "stdout",
     "output_type": "stream",
     "text": [
      "<class 'pandas.core.frame.DataFrame'>\n",
      "DatetimeIndex: 371 entries, 2020-01-03 to 2022-09-09\n",
      "Data columns (total 54 columns):\n",
      " #   Column                          Non-Null Count  Dtype          \n",
      "---  ------                          --------------  -----          \n",
      " 0   BodyMassIndex                   74 non-null     float64        \n",
      " 1   Height                          1 non-null      float64        \n",
      " 2   BodyMass                        82 non-null     float64        \n",
      " 3   HeartRate                       335 non-null    float64        \n",
      " 4   RespiratoryRate                 334 non-null    float64        \n",
      " 5   BodyFatPercentage               74 non-null     float64        \n",
      " 6   LeanBodyMass                    74 non-null     float64        \n",
      " 7   RestingHeartRate                323 non-null    float64        \n",
      " 8   VO2Max                          36 non-null     float64        \n",
      " 9   WalkingHeartRateAverage         318 non-null    float64        \n",
      " 10  EnvironmentalAudioExposure      334 non-null    float64        \n",
      " 11  HeadphoneAudioExposure          333 non-null    float64        \n",
      " 12  WalkingDoubleSupportPercentage  292 non-null    float64        \n",
      " 13  SixMinuteWalkTestDistance       32 non-null     float64        \n",
      " 14  WalkingSpeed                    307 non-null    float64        \n",
      " 15  WalkingStepLength               307 non-null    float64        \n",
      " 16  WalkingAsymmetryPercentage      94 non-null     float64        \n",
      " 17  HKDataTypeSleepDurationGoal     3 non-null      float64        \n",
      " 18  AppleWalkingSteadiness          46 non-null     float64        \n",
      " 19  HeartRateVariabilitySDNN        334 non-null    float64        \n",
      " 20  StepCount                       337 non-null    float64        \n",
      " 21  DistanceWalkingRunning          346 non-null    float64        \n",
      " 22  BasalEnergyBurned               337 non-null    float64        \n",
      " 23  ActiveEnergyBurned              335 non-null    float64        \n",
      " 24  FlightsClimbed                  105 non-null    float64        \n",
      " 25  AppleExerciseTime               279 non-null    float64        \n",
      " 26  AppleStandTime                  334 non-null    float64        \n",
      " 27  fromdate                        332 non-null    datetime64[ns] \n",
      " 28  todate                          332 non-null    datetime64[ns] \n",
      " 29  bedtime                         332 non-null    datetime64[ns] \n",
      " 30  waketime                        332 non-null    datetime64[ns] \n",
      " 31  inbed                           332 non-null    timedelta64[ns]\n",
      " 32  awake                           332 non-null    timedelta64[ns]\n",
      " 33  fellasleepin                    330 non-null    timedelta64[ns]\n",
      " 34  sessions                        332 non-null    float64        \n",
      " 35  asleep                          332 non-null    timedelta64[ns]\n",
      " 36  efficiency                      332 non-null    float64        \n",
      " 37  quality                         330 non-null    timedelta64[ns]\n",
      " 38  deep                            282 non-null    timedelta64[ns]\n",
      " 39  sleepbpm                        330 non-null    float64        \n",
      " 40  daybpm                          329 non-null    float64        \n",
      " 41  wakingbpm                       332 non-null    float64        \n",
      " 42  hrv                             332 non-null    float64        \n",
      " 43  sleephrv                        330 non-null    float64        \n",
      " 44  respavg                         330 non-null    float64        \n",
      " 45  respmin                         330 non-null    float64        \n",
      " 46  respmax                         330 non-null    float64        \n",
      " 47  duration                        336 non-null    float64        \n",
      " 48  totaldistance                   336 non-null    float64        \n",
      " 49  totalenergyburned               336 non-null    float64        \n",
      " 50  min_HeartRate                   335 non-null    float64        \n",
      " 51  min_HeartRateVariabilitySDNN    334 non-null    float64        \n",
      " 52  max_HeartRate                   335 non-null    float64        \n",
      " 53  max_HeartRateVariabilitySDNN    334 non-null    float64        \n",
      "dtypes: datetime64[ns](4), float64(44), timedelta64[ns](6)\n",
      "memory usage: 167.5 KB\n"
     ]
    }
   ],
   "source": [
    "dayMerged.info()"
   ]
  },
  {
   "cell_type": "code",
   "execution_count": 21,
   "metadata": {},
   "outputs": [
    {
     "name": "stdout",
     "output_type": "stream",
     "text": [
      "<class 'pandas.core.frame.DataFrame'>\n",
      "Int64Index: 973928 entries, 0 to 986936\n",
      "Data columns (total 9 columns):\n",
      " #   Column         Non-Null Count   Dtype         \n",
      "---  ------         --------------   -----         \n",
      " 0   datatype       973928 non-null  category      \n",
      " 1   sourcename     973928 non-null  category      \n",
      " 2   sourceversion  973928 non-null  object        \n",
      " 3   unit           973928 non-null  object        \n",
      " 4   creationdate   973928 non-null  datetime64[ns]\n",
      " 5   startdate      973928 non-null  datetime64[ns]\n",
      " 6   enddate        973928 non-null  datetime64[ns]\n",
      " 7   value          973928 non-null  float64       \n",
      " 8   device         973928 non-null  object        \n",
      "dtypes: category(2), datetime64[ns](3), float64(1), object(3)\n",
      "memory usage: 61.3+ MB\n"
     ]
    }
   ],
   "source": [
    "healthdata.info()"
   ]
  },
  {
   "cell_type": "code",
   "execution_count": 34,
   "metadata": {},
   "outputs": [
    {
     "name": "stdout",
     "output_type": "stream",
     "text": [
      "DataFrame full loaded to Table: health\n"
     ]
    }
   ],
   "source": [
    "custom={\"id\":\"INT PRIMARY KEY\",\n",
    "        \"creationdate\": \"DATETIME\",\n",
    "        \"startdate\": \"DATETIME\",\n",
    "        \"enddate\": \"DATETIME\",\n",
    "        }\n",
    "dataloader.full_load(df = healthdata, tbl = \"health\", hasindex = False, custom = custom)"
   ]
  },
  {
   "cell_type": "code",
   "execution_count": 35,
   "metadata": {},
   "outputs": [
    {
     "name": "stdout",
     "output_type": "stream",
     "text": [
      "<class 'pandas.core.frame.DataFrame'>\n",
      "Int64Index: 362 entries, 1 to 362\n",
      "Data columns (total 13 columns):\n",
      " #   Column                 Non-Null Count  Dtype         \n",
      "---  ------                 --------------  -----         \n",
      " 0   workouttype            362 non-null    category      \n",
      " 1   duration               362 non-null    float64       \n",
      " 2   durationunit           362 non-null    object        \n",
      " 3   totaldistance          362 non-null    float64       \n",
      " 4   totaldistanceunit      362 non-null    object        \n",
      " 5   totalenergyburned      362 non-null    float64       \n",
      " 6   totalenergyburnedunit  362 non-null    object        \n",
      " 7   sourcename             362 non-null    category      \n",
      " 8   device                 362 non-null    object        \n",
      " 9   creationdate           362 non-null    datetime64[ns]\n",
      " 10  startdate              362 non-null    datetime64[ns]\n",
      " 11  enddate                362 non-null    datetime64[ns]\n",
      " 12  workoutname            362 non-null    category      \n",
      "dtypes: category(3), datetime64[ns](3), float64(3), object(4)\n",
      "memory usage: 33.8+ KB\n"
     ]
    }
   ],
   "source": [
    "workoutdata.info()"
   ]
  },
  {
   "cell_type": "code",
   "execution_count": 36,
   "metadata": {},
   "outputs": [
    {
     "name": "stdout",
     "output_type": "stream",
     "text": [
      "DataFrame full loaded to Table: workout\n"
     ]
    }
   ],
   "source": [
    "custom={\"id\":\"INT PRIMARY KEY\",\n",
    "        \"creationdate\": \"DATETIME\",\n",
    "        \"startdate\": \"DATETIME\",\n",
    "        \"enddate\": \"DATETIME\",\n",
    "        }\n",
    "dataloader.full_load(df = workoutdata, tbl = \"workout\", hasindex = False, custom = custom)"
   ]
  },
  {
   "cell_type": "code",
   "execution_count": 25,
   "metadata": {},
   "outputs": [
    {
     "name": "stdout",
     "output_type": "stream",
     "text": [
      "<class 'pandas.core.frame.DataFrame'>\n",
      "RangeIndex: 333 entries, 0 to 332\n",
      "Data columns (total 21 columns):\n",
      " #   Column        Non-Null Count  Dtype          \n",
      "---  ------        --------------  -----          \n",
      " 0   maindate      333 non-null    datetime64[ns] \n",
      " 1   fromdate      333 non-null    datetime64[ns] \n",
      " 2   todate        333 non-null    datetime64[ns] \n",
      " 3   bedtime       333 non-null    datetime64[ns] \n",
      " 4   waketime      333 non-null    datetime64[ns] \n",
      " 5   inbed         333 non-null    timedelta64[ns]\n",
      " 6   awake         333 non-null    timedelta64[ns]\n",
      " 7   fellasleepin  331 non-null    timedelta64[ns]\n",
      " 8   sessions      333 non-null    int64          \n",
      " 9   asleep        333 non-null    timedelta64[ns]\n",
      " 10  efficiency    333 non-null    float64        \n",
      " 11  quality       331 non-null    timedelta64[ns]\n",
      " 12  deep          282 non-null    timedelta64[ns]\n",
      " 13  sleepbpm      331 non-null    float64        \n",
      " 14  daybpm        329 non-null    float64        \n",
      " 15  wakingbpm     333 non-null    float64        \n",
      " 16  hrv           333 non-null    int64          \n",
      " 17  sleephrv      330 non-null    float64        \n",
      " 18  respavg       331 non-null    float64        \n",
      " 19  respmin       331 non-null    float64        \n",
      " 20  respmax       331 non-null    float64        \n",
      "dtypes: datetime64[ns](5), float64(8), int64(2), timedelta64[ns](6)\n",
      "memory usage: 54.8 KB\n"
     ]
    }
   ],
   "source": [
    "sleepdata.info()"
   ]
  },
  {
   "cell_type": "code",
   "execution_count": null,
   "metadata": {},
   "outputs": [],
   "source": []
  },
  {
   "cell_type": "code",
   "execution_count": 26,
   "metadata": {},
   "outputs": [
    {
     "name": "stdout",
     "output_type": "stream",
     "text": [
      "<class 'pandas.core.frame.DataFrame'>\n",
      "RangeIndex: 333 entries, 0 to 332\n",
      "Data columns (total 21 columns):\n",
      " #   Column        Non-Null Count  Dtype          \n",
      "---  ------        --------------  -----          \n",
      " 0   maindate      333 non-null    datetime64[ns] \n",
      " 1   fromdate      333 non-null    datetime64[ns] \n",
      " 2   todate        333 non-null    datetime64[ns] \n",
      " 3   bedtime       333 non-null    datetime64[ns] \n",
      " 4   waketime      333 non-null    datetime64[ns] \n",
      " 5   inbed         333 non-null    timedelta64[ns]\n",
      " 6   awake         333 non-null    timedelta64[ns]\n",
      " 7   fellasleepin  331 non-null    timedelta64[ns]\n",
      " 8   sessions      333 non-null    int64          \n",
      " 9   asleep        333 non-null    timedelta64[ns]\n",
      " 10  efficiency    333 non-null    float64        \n",
      " 11  quality       331 non-null    timedelta64[ns]\n",
      " 12  deep          282 non-null    timedelta64[ns]\n",
      " 13  sleepbpm      331 non-null    float64        \n",
      " 14  daybpm        329 non-null    float64        \n",
      " 15  wakingbpm     333 non-null    float64        \n",
      " 16  hrv           333 non-null    int64          \n",
      " 17  sleephrv      330 non-null    float64        \n",
      " 18  respavg       331 non-null    float64        \n",
      " 19  respmin       331 non-null    float64        \n",
      " 20  respmax       331 non-null    float64        \n",
      "dtypes: datetime64[ns](5), float64(8), int64(2), timedelta64[ns](6)\n",
      "memory usage: 54.8 KB\n"
     ]
    }
   ],
   "source": [
    "sleepdata.info()"
   ]
  },
  {
   "cell_type": "code",
   "execution_count": 37,
   "metadata": {},
   "outputs": [
    {
     "name": "stdout",
     "output_type": "stream",
     "text": [
      "DataFrame full loaded to Table: sleep\n"
     ]
    }
   ],
   "source": [
    "custom={\"id\":\"INT PRIMARY KEY\",\n",
    "        \"maindate\": \"DATE\",\n",
    "        \"fromdate\": \"DATE\",\n",
    "        \"todate\": \"DATE\",\n",
    "        \"bedtime\": \"DATETIME2\",\n",
    "        \"waketime\": \"DATETIME2\",\n",
    "        }\n",
    "dataloader.full_load(df = sleepdata, tbl = \"sleep\", hasindex = False, custom = custom)"
   ]
  },
  {
   "cell_type": "code",
   "execution_count": 28,
   "metadata": {},
   "outputs": [
    {
     "name": "stdout",
     "output_type": "stream",
     "text": [
      "<class 'pandas.core.frame.DataFrame'>\n",
      "DatetimeIndex: 371 entries, 2020-01-03 to 2022-09-09\n",
      "Data columns (total 54 columns):\n",
      " #   Column                          Non-Null Count  Dtype          \n",
      "---  ------                          --------------  -----          \n",
      " 0   BodyMassIndex                   74 non-null     float64        \n",
      " 1   Height                          1 non-null      float64        \n",
      " 2   BodyMass                        82 non-null     float64        \n",
      " 3   HeartRate                       335 non-null    float64        \n",
      " 4   RespiratoryRate                 334 non-null    float64        \n",
      " 5   BodyFatPercentage               74 non-null     float64        \n",
      " 6   LeanBodyMass                    74 non-null     float64        \n",
      " 7   RestingHeartRate                323 non-null    float64        \n",
      " 8   VO2Max                          36 non-null     float64        \n",
      " 9   WalkingHeartRateAverage         318 non-null    float64        \n",
      " 10  EnvironmentalAudioExposure      334 non-null    float64        \n",
      " 11  HeadphoneAudioExposure          333 non-null    float64        \n",
      " 12  WalkingDoubleSupportPercentage  292 non-null    float64        \n",
      " 13  SixMinuteWalkTestDistance       32 non-null     float64        \n",
      " 14  WalkingSpeed                    307 non-null    float64        \n",
      " 15  WalkingStepLength               307 non-null    float64        \n",
      " 16  WalkingAsymmetryPercentage      94 non-null     float64        \n",
      " 17  HKDataTypeSleepDurationGoal     3 non-null      float64        \n",
      " 18  AppleWalkingSteadiness          46 non-null     float64        \n",
      " 19  HeartRateVariabilitySDNN        334 non-null    float64        \n",
      " 20  StepCount                       337 non-null    float64        \n",
      " 21  DistanceWalkingRunning          346 non-null    float64        \n",
      " 22  BasalEnergyBurned               337 non-null    float64        \n",
      " 23  ActiveEnergyBurned              335 non-null    float64        \n",
      " 24  FlightsClimbed                  105 non-null    float64        \n",
      " 25  AppleExerciseTime               279 non-null    float64        \n",
      " 26  AppleStandTime                  334 non-null    float64        \n",
      " 27  fromdate                        332 non-null    datetime64[ns] \n",
      " 28  todate                          332 non-null    datetime64[ns] \n",
      " 29  bedtime                         332 non-null    datetime64[ns] \n",
      " 30  waketime                        332 non-null    datetime64[ns] \n",
      " 31  inbed                           332 non-null    timedelta64[ns]\n",
      " 32  awake                           332 non-null    timedelta64[ns]\n",
      " 33  fellasleepin                    330 non-null    timedelta64[ns]\n",
      " 34  sessions                        332 non-null    float64        \n",
      " 35  asleep                          332 non-null    timedelta64[ns]\n",
      " 36  efficiency                      332 non-null    float64        \n",
      " 37  quality                         330 non-null    timedelta64[ns]\n",
      " 38  deep                            282 non-null    timedelta64[ns]\n",
      " 39  sleepbpm                        330 non-null    float64        \n",
      " 40  daybpm                          329 non-null    float64        \n",
      " 41  wakingbpm                       332 non-null    float64        \n",
      " 42  hrv                             332 non-null    float64        \n",
      " 43  sleephrv                        330 non-null    float64        \n",
      " 44  respavg                         330 non-null    float64        \n",
      " 45  respmin                         330 non-null    float64        \n",
      " 46  respmax                         330 non-null    float64        \n",
      " 47  duration                        336 non-null    float64        \n",
      " 48  totaldistance                   336 non-null    float64        \n",
      " 49  totalenergyburned               336 non-null    float64        \n",
      " 50  min_HeartRate                   335 non-null    float64        \n",
      " 51  min_HeartRateVariabilitySDNN    334 non-null    float64        \n",
      " 52  max_HeartRate                   335 non-null    float64        \n",
      " 53  max_HeartRateVariabilitySDNN    334 non-null    float64        \n",
      "dtypes: datetime64[ns](4), float64(44), timedelta64[ns](6)\n",
      "memory usage: 167.5 KB\n"
     ]
    }
   ],
   "source": [
    "dayMerged.info()"
   ]
  },
  {
   "cell_type": "code",
   "execution_count": 29,
   "metadata": {},
   "outputs": [],
   "source": [
    "dayMerged=(\n",
    "    dayMerged\n",
    "       .rename(columns = {'HeartRateVariabilitySDNN':'hrvstd'})\n",
    "       #.dropna(subset=['HeartRate', 'RestingHeartRate','hrv'], how='all', axis=0)\n",
    "       .assign(BodyMassIndex = lambda x: x['BodyMassIndex'].interpolate().bfill(),\n",
    "               Height = lambda x: x['Height'].interpolate().bfill(),\n",
    "               BodyMass = lambda x: x['BodyMass'].interpolate().bfill(),\n",
    "               HeartRate = lambda x: x['HeartRate'].interpolate().bfill(),\n",
    "               RespiratoryRate = lambda x: x['RespiratoryRate'].interpolate().bfill(),\n",
    "               BodyFatPercentage = lambda x: x['BodyFatPercentage'].interpolate().bfill(),\n",
    "               LeanBodyMass = lambda x: x['LeanBodyMass'].interpolate().bfill(),\n",
    "               RestingHeartRate = lambda x: x['RestingHeartRate'].interpolate().bfill(),\n",
    "               VO2Max = lambda x: x['VO2Max'].interpolate().bfill(),\n",
    "               hrvstd = lambda x: x['hrvstd'].interpolate().bfill(),\n",
    "               )\n",
    "    #    .query(\"creationdate > '2021-09-14'\")\n",
    "    #    .interpolate()\n",
    "    #    .dropna()\n",
    ")"
   ]
  },
  {
   "cell_type": "code",
   "execution_count": 30,
   "metadata": {},
   "outputs": [
    {
     "name": "stdout",
     "output_type": "stream",
     "text": [
      "<class 'pandas.core.frame.DataFrame'>\n",
      "DatetimeIndex: 371 entries, 2020-01-03 to 2022-09-09\n",
      "Data columns (total 54 columns):\n",
      " #   Column                          Non-Null Count  Dtype          \n",
      "---  ------                          --------------  -----          \n",
      " 0   BodyMassIndex                   371 non-null    float64        \n",
      " 1   Height                          371 non-null    float64        \n",
      " 2   BodyMass                        371 non-null    float64        \n",
      " 3   HeartRate                       371 non-null    float64        \n",
      " 4   RespiratoryRate                 371 non-null    float64        \n",
      " 5   BodyFatPercentage               371 non-null    float64        \n",
      " 6   LeanBodyMass                    371 non-null    float64        \n",
      " 7   RestingHeartRate                371 non-null    float64        \n",
      " 8   VO2Max                          371 non-null    float64        \n",
      " 9   WalkingHeartRateAverage         318 non-null    float64        \n",
      " 10  EnvironmentalAudioExposure      334 non-null    float64        \n",
      " 11  HeadphoneAudioExposure          333 non-null    float64        \n",
      " 12  WalkingDoubleSupportPercentage  292 non-null    float64        \n",
      " 13  SixMinuteWalkTestDistance       32 non-null     float64        \n",
      " 14  WalkingSpeed                    307 non-null    float64        \n",
      " 15  WalkingStepLength               307 non-null    float64        \n",
      " 16  WalkingAsymmetryPercentage      94 non-null     float64        \n",
      " 17  HKDataTypeSleepDurationGoal     3 non-null      float64        \n",
      " 18  AppleWalkingSteadiness          46 non-null     float64        \n",
      " 19  hrvstd                          371 non-null    float64        \n",
      " 20  StepCount                       337 non-null    float64        \n",
      " 21  DistanceWalkingRunning          346 non-null    float64        \n",
      " 22  BasalEnergyBurned               337 non-null    float64        \n",
      " 23  ActiveEnergyBurned              335 non-null    float64        \n",
      " 24  FlightsClimbed                  105 non-null    float64        \n",
      " 25  AppleExerciseTime               279 non-null    float64        \n",
      " 26  AppleStandTime                  334 non-null    float64        \n",
      " 27  fromdate                        332 non-null    datetime64[ns] \n",
      " 28  todate                          332 non-null    datetime64[ns] \n",
      " 29  bedtime                         332 non-null    datetime64[ns] \n",
      " 30  waketime                        332 non-null    datetime64[ns] \n",
      " 31  inbed                           332 non-null    timedelta64[ns]\n",
      " 32  awake                           332 non-null    timedelta64[ns]\n",
      " 33  fellasleepin                    330 non-null    timedelta64[ns]\n",
      " 34  sessions                        332 non-null    float64        \n",
      " 35  asleep                          332 non-null    timedelta64[ns]\n",
      " 36  efficiency                      332 non-null    float64        \n",
      " 37  quality                         330 non-null    timedelta64[ns]\n",
      " 38  deep                            282 non-null    timedelta64[ns]\n",
      " 39  sleepbpm                        330 non-null    float64        \n",
      " 40  daybpm                          329 non-null    float64        \n",
      " 41  wakingbpm                       332 non-null    float64        \n",
      " 42  hrv                             332 non-null    float64        \n",
      " 43  sleephrv                        330 non-null    float64        \n",
      " 44  respavg                         330 non-null    float64        \n",
      " 45  respmin                         330 non-null    float64        \n",
      " 46  respmax                         330 non-null    float64        \n",
      " 47  duration                        336 non-null    float64        \n",
      " 48  totaldistance                   336 non-null    float64        \n",
      " 49  totalenergyburned               336 non-null    float64        \n",
      " 50  min_HeartRate                   335 non-null    float64        \n",
      " 51  min_HeartRateVariabilitySDNN    334 non-null    float64        \n",
      " 52  max_HeartRate                   335 non-null    float64        \n",
      " 53  max_HeartRateVariabilitySDNN    334 non-null    float64        \n",
      "dtypes: datetime64[ns](4), float64(44), timedelta64[ns](6)\n",
      "memory usage: 167.5 KB\n"
     ]
    }
   ],
   "source": [
    "dayMerged.info()"
   ]
  },
  {
   "cell_type": "code",
   "execution_count": 42,
   "metadata": {},
   "outputs": [
    {
     "name": "stdout",
     "output_type": "stream",
     "text": [
      "DataFrame full loaded to Table: dayMerged\n"
     ]
    }
   ],
   "source": [
    "custom={\"id\":\"INT PRIMARY KEY\",\n",
    "        \"creationdate\": \"DATE\",\n",
    "        \"fromdate\": \"DATE\",\n",
    "        \"todate\": \"DATE\",\n",
    "        \"bedtime\": \"DATETIME2\",\n",
    "        \"waketime\": \"DATETIME2\",\n",
    "        }\n",
    "dataloader.full_load(df = dayMerged.pipe(helper.timetoseconds), tbl = \"dayMerged\", hasindex = True, custom = custom)"
   ]
  },
  {
   "cell_type": "code",
   "execution_count": 33,
   "metadata": {},
   "outputs": [
    {
     "data": {
      "text/plain": [
       "<module 'dataloader' from '/Users/ganesh/Documents/ImportantWork/CleanRepo/Lifestyle/dataloader.py'>"
      ]
     },
     "execution_count": 33,
     "metadata": {},
     "output_type": "execute_result"
    }
   ],
   "source": [
    "import importlib\n",
    "importlib.reload(helper)\n",
    "importlib.reload(dataloader)"
   ]
  },
  {
   "cell_type": "code",
   "execution_count": 41,
   "metadata": {},
   "outputs": [
    {
     "name": "stdout",
     "output_type": "stream",
     "text": [
      "<class 'pandas.core.frame.DataFrame'>\n",
      "DatetimeIndex: 371 entries, 2020-01-03 to 2022-09-09\n",
      "Data columns (total 54 columns):\n",
      " #   Column                          Non-Null Count  Dtype \n",
      "---  ------                          --------------  ----- \n",
      " 0   BodyMassIndex                   371 non-null    object\n",
      " 1   Height                          371 non-null    object\n",
      " 2   BodyMass                        371 non-null    object\n",
      " 3   HeartRate                       371 non-null    object\n",
      " 4   RespiratoryRate                 371 non-null    object\n",
      " 5   BodyFatPercentage               371 non-null    object\n",
      " 6   LeanBodyMass                    371 non-null    object\n",
      " 7   RestingHeartRate                371 non-null    object\n",
      " 8   VO2Max                          371 non-null    object\n",
      " 9   WalkingHeartRateAverage         318 non-null    object\n",
      " 10  EnvironmentalAudioExposure      334 non-null    object\n",
      " 11  HeadphoneAudioExposure          333 non-null    object\n",
      " 12  WalkingDoubleSupportPercentage  292 non-null    object\n",
      " 13  SixMinuteWalkTestDistance       32 non-null     object\n",
      " 14  WalkingSpeed                    307 non-null    object\n",
      " 15  WalkingStepLength               307 non-null    object\n",
      " 16  WalkingAsymmetryPercentage      94 non-null     object\n",
      " 17  HKDataTypeSleepDurationGoal     3 non-null      object\n",
      " 18  AppleWalkingSteadiness          46 non-null     object\n",
      " 19  hrvstd                          371 non-null    object\n",
      " 20  StepCount                       337 non-null    object\n",
      " 21  DistanceWalkingRunning          346 non-null    object\n",
      " 22  BasalEnergyBurned               337 non-null    object\n",
      " 23  ActiveEnergyBurned              335 non-null    object\n",
      " 24  FlightsClimbed                  105 non-null    object\n",
      " 25  AppleExerciseTime               279 non-null    object\n",
      " 26  AppleStandTime                  334 non-null    object\n",
      " 27  fromdate                        332 non-null    object\n",
      " 28  todate                          332 non-null    object\n",
      " 29  bedtime                         332 non-null    object\n",
      " 30  waketime                        332 non-null    object\n",
      " 31  inbed                           332 non-null    object\n",
      " 32  awake                           332 non-null    object\n",
      " 33  fellasleepin                    330 non-null    object\n",
      " 34  sessions                        332 non-null    object\n",
      " 35  asleep                          332 non-null    object\n",
      " 36  efficiency                      332 non-null    object\n",
      " 37  quality                         330 non-null    object\n",
      " 38  deep                            282 non-null    object\n",
      " 39  sleepbpm                        330 non-null    object\n",
      " 40  daybpm                          329 non-null    object\n",
      " 41  wakingbpm                       332 non-null    object\n",
      " 42  hrv                             332 non-null    object\n",
      " 43  sleephrv                        330 non-null    object\n",
      " 44  respavg                         330 non-null    object\n",
      " 45  respmin                         330 non-null    object\n",
      " 46  respmax                         330 non-null    object\n",
      " 47  duration                        336 non-null    object\n",
      " 48  totaldistance                   336 non-null    object\n",
      " 49  totalenergyburned               336 non-null    object\n",
      " 50  min_HeartRate                   335 non-null    object\n",
      " 51  min_HeartRateVariabilitySDNN    334 non-null    object\n",
      " 52  max_HeartRate                   335 non-null    object\n",
      " 53  max_HeartRateVariabilitySDNN    334 non-null    object\n",
      "dtypes: object(54)\n",
      "memory usage: 167.5+ KB\n"
     ]
    }
   ],
   "source": [
    "dayMerged.pipe(helper.timetoseconds).replace({np.NaN: None}).info()"
   ]
  },
  {
   "cell_type": "code",
   "execution_count": null,
   "metadata": {},
   "outputs": [],
   "source": []
  }
 ],
 "metadata": {
  "kernelspec": {
   "display_name": "Python 3",
   "language": "python",
   "name": "python3"
  },
  "language_info": {
   "codemirror_mode": {
    "name": "ipython",
    "version": 3
   },
   "file_extension": ".py",
   "mimetype": "text/x-python",
   "name": "python",
   "nbconvert_exporter": "python",
   "pygments_lexer": "ipython3",
   "version": "3.10.8"
  },
  "orig_nbformat": 4,
  "vscode": {
   "interpreter": {
    "hash": "b0fa6594d8f4cbf19f97940f81e996739fb7646882a419484c72d19e05852a7e"
   }
  }
 },
 "nbformat": 4,
 "nbformat_minor": 2
}
