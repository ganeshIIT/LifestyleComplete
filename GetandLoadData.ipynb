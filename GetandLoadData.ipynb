{
 "cells": [
  {
   "cell_type": "code",
   "execution_count": 1,
   "metadata": {},
   "outputs": [],
   "source": [
    "import xmltodict\n",
    "\n",
    "\n",
    "import numpy as np\n",
    "import pandas as pd\n",
    "import matplotlib.pyplot as plt\n",
    "import seaborn as sns\n",
    "\n",
    "import helper\n",
    "import dataloader"
   ]
  },
  {
   "attachments": {},
   "cell_type": "markdown",
   "metadata": {},
   "source": [
    "This function performs cleaning of the column and index names of a pandas DataFrame.\n",
    "\n",
    "The function takes the input DataFrame and uses a helper function '_cleanlabel' to clean the names of the columns and the index.\n",
    "If the index name exists, the index name is renamed using the '_cleanlabel' function and the updated DataFrame is returned."
   ]
  },
  {
   "cell_type": "code",
   "execution_count": 2,
   "metadata": {},
   "outputs": [],
   "source": [
    "def labelcleaner(df):\n",
    "    \"\"\"\n",
    "    Input:\n",
    "    df: pandas DataFrame\n",
    "\n",
    "    Output:\n",
    "    df: pandas DataFrame with cleaned column and index names\n",
    "    \"\"\"\n",
    "    df.columns = [\n",
    "        helper._cleanlabel(col) for col in df.columns\n",
    "    ]\n",
    "    if df.index.name:\n",
    "        df.index.rename(\n",
    "            helper._cleanlabel(df.index.name),\n",
    "            inplace=True\n",
    "        )\n",
    "    return df"
   ]
  },
  {
   "cell_type": "code",
   "execution_count": 3,
   "metadata": {},
   "outputs": [],
   "source": [
    "health_datapath = '/Users/ganesh/Library/Mobile Documents/com~apple~CloudDocs/SharedFolder/export.xml'\n",
    "sleep_datapath = '/Users/ganesh/Library/Mobile Documents/com~apple~CloudDocs/SharedFolder/AutoSleep.csv'"
   ]
  },
  {
   "attachments": {},
   "cell_type": "markdown",
   "metadata": {},
   "source": [
    "The code opens an XML file located at the health_datapath location in the 'r' (read) mode and ignores any errors that might occur during the reading process.\n",
    "\n",
    "Next, the xmltodict library is used to parse the contents of the file into a Python dictionary, which is stored in the health variable. The health dictionary has two keys: 'HealthData' and 'Record' for health records and 'HealthData' and 'Workout' for workout records.\n",
    "\n",
    "Two new dataframes are created, healthdata and workoutdata, from the healthrecords and workoutrecords respectively, using the pd.DataFrame method. Finally, a third dataframe, sleepdata, is created by reading a CSV file located at the sleep_datapath location using the pd.read_csv method."
   ]
  },
  {
   "cell_type": "code",
   "execution_count": 4,
   "metadata": {},
   "outputs": [],
   "source": [
    "with open(health_datapath, 'r', errors='ignore') as xml_file:\n",
    "    health = xmltodict.parse(xml_file.read())\n",
    "    \n",
    "    healthrecords = health['HealthData']['Record']\n",
    "    workoutrecords = health['HealthData']['Workout']\n",
    "    \n",
    "    \n",
    "    healthdata = pd.DataFrame(healthrecords)\n",
    "    workoutdata = pd.DataFrame(workoutrecords)\n",
    "    sleepdata = pd.read_csv(sleep_datapath)"
   ]
  },
  {
   "attachments": {},
   "cell_type": "markdown",
   "metadata": {},
   "source": [
    "Let's put them into dataframes if we need to have a look at the raw data later."
   ]
  },
  {
   "cell_type": "code",
   "execution_count": 7,
   "metadata": {},
   "outputs": [],
   "source": [
    "health_rawsample = healthdata.sample(1000)\n",
    "workout_rawsample = workoutdata.copy()\n",
    "sleep_rawsample = sleepdata.copy()"
   ]
  },
  {
   "cell_type": "code",
   "execution_count": 8,
   "metadata": {},
   "outputs": [
    {
     "name": "stdout",
     "output_type": "stream",
     "text": [
      "<class 'pandas.core.frame.DataFrame'>\n",
      "Int64Index: 1000 entries, 156407 to 64723\n",
      "Data columns (total 11 columns):\n",
      " #   Column                            Non-Null Count  Dtype \n",
      "---  ------                            --------------  ----- \n",
      " 0   @type                             1000 non-null   object\n",
      " 1   @sourceName                       1000 non-null   object\n",
      " 2   @sourceVersion                    1000 non-null   object\n",
      " 3   @unit                             989 non-null    object\n",
      " 4   @creationDate                     1000 non-null   object\n",
      " 5   @startDate                        1000 non-null   object\n",
      " 6   @endDate                          1000 non-null   object\n",
      " 7   @value                            1000 non-null   object\n",
      " 8   @device                           968 non-null    object\n",
      " 9   MetadataEntry                     146 non-null    object\n",
      " 10  HeartRateVariabilityMetadataList  2 non-null      object\n",
      "dtypes: object(11)\n",
      "memory usage: 93.8+ KB\n",
      "<class 'pandas.core.frame.DataFrame'>\n",
      "RangeIndex: 362 entries, 0 to 361\n",
      "Data columns (total 16 columns):\n",
      " #   Column                  Non-Null Count  Dtype \n",
      "---  ------                  --------------  ----- \n",
      " 0   @workoutActivityType    362 non-null    object\n",
      " 1   @duration               362 non-null    object\n",
      " 2   @durationUnit           362 non-null    object\n",
      " 3   @totalDistance          362 non-null    object\n",
      " 4   @totalDistanceUnit      362 non-null    object\n",
      " 5   @totalEnergyBurned      362 non-null    object\n",
      " 6   @totalEnergyBurnedUnit  362 non-null    object\n",
      " 7   @sourceName             362 non-null    object\n",
      " 8   @sourceVersion          362 non-null    object\n",
      " 9   @device                 300 non-null    object\n",
      " 10  @creationDate           362 non-null    object\n",
      " 11  @startDate              362 non-null    object\n",
      " 12  @endDate                362 non-null    object\n",
      " 13  MetadataEntry           300 non-null    object\n",
      " 14  WorkoutEvent            32 non-null     object\n",
      " 15  WorkoutRoute            33 non-null     object\n",
      "dtypes: object(16)\n",
      "memory usage: 45.4+ KB\n",
      "<class 'pandas.core.frame.DataFrame'>\n",
      "RangeIndex: 333 entries, 0 to 332\n",
      "Data columns (total 35 columns):\n",
      " #   Column          Non-Null Count  Dtype  \n",
      "---  ------          --------------  -----  \n",
      " 0   ISO8601         333 non-null    object \n",
      " 1   fromDate        333 non-null    object \n",
      " 2   toDate          333 non-null    object \n",
      " 3   bedtime         333 non-null    object \n",
      " 4   waketime        333 non-null    object \n",
      " 5   inBed           333 non-null    object \n",
      " 6   awake           333 non-null    object \n",
      " 7   fellAsleepIn    331 non-null    object \n",
      " 8   sessions        333 non-null    int64  \n",
      " 9   asleep          333 non-null    object \n",
      " 10  asleepAvg7      333 non-null    object \n",
      " 11  efficiency      333 non-null    float64\n",
      " 12  efficiencyAvg7  333 non-null    float64\n",
      " 13  quality         331 non-null    object \n",
      " 14  qualityAvg7     331 non-null    object \n",
      " 15  deep            282 non-null    object \n",
      " 16  deepAvg7        282 non-null    object \n",
      " 17  sleepBPM        331 non-null    float64\n",
      " 18  sleepBPMAvg7    331 non-null    float64\n",
      " 19  dayBPM          329 non-null    float64\n",
      " 20  dayBPMAvg7      329 non-null    float64\n",
      " 21  wakingBPM       333 non-null    float64\n",
      " 22  wakingBPMAvg7   333 non-null    float64\n",
      " 23  hrv             333 non-null    int64  \n",
      " 24  hrvAvg7         333 non-null    int64  \n",
      " 25  sleepHRV        330 non-null    float64\n",
      " 26  sleepHRVAvg7    330 non-null    float64\n",
      " 27  SpO2Avg         0 non-null      float64\n",
      " 28  SpO2Min         0 non-null      float64\n",
      " 29  SpO2Max         0 non-null      float64\n",
      " 30  respAvg         331 non-null    float64\n",
      " 31  respMin         331 non-null    float64\n",
      " 32  respMax         331 non-null    float64\n",
      " 33  tags            1 non-null      object \n",
      " 34  notes           0 non-null      float64\n",
      "dtypes: float64(17), int64(3), object(15)\n",
      "memory usage: 91.2+ KB\n"
     ]
    }
   ],
   "source": [
    "health_rawsample.info()\n",
    "workout_rawsample.info()\n",
    "sleep_rawsample.info()"
   ]
  },
  {
   "attachments": {},
   "cell_type": "markdown",
   "metadata": {},
   "source": [
    "This code calls the \"labelcleaner\" function on the three dataframes: \"healthdata\", \"workoutdata\", and \"sleepdata\". The purpose of the \"labelcleaner\" function is to clean the labels of the columns and index of a dataframe. The cleaned labels are assigned back to the respective dataframes."
   ]
  },
  {
   "cell_type": "code",
   "execution_count": 9,
   "metadata": {},
   "outputs": [],
   "source": [
    "healthdata = labelcleaner(healthdata)\n",
    "workoutdata = labelcleaner(workoutdata)\n",
    "sleepdata = labelcleaner(sleepdata)"
   ]
  },
  {
   "cell_type": "code",
   "execution_count": 10,
   "metadata": {},
   "outputs": [
    {
     "data": {
      "text/plain": [
       "Index(['type', 'sourcename', 'sourceversion', 'unit', 'creationdate',\n",
       "       'startdate', 'enddate', 'value', 'device', 'metadataentry',\n",
       "       'heartratevariabilitymetadatalist'],\n",
       "      dtype='object')"
      ]
     },
     "execution_count": 10,
     "metadata": {},
     "output_type": "execute_result"
    }
   ],
   "source": [
    "healthdata.columns"
   ]
  },
  {
   "cell_type": "code",
   "execution_count": 11,
   "metadata": {},
   "outputs": [
    {
     "data": {
      "text/plain": [
       "Index(['workoutactivitytype', 'duration', 'durationunit', 'totaldistance',\n",
       "       'totaldistanceunit', 'totalenergyburned', 'totalenergyburnedunit',\n",
       "       'sourcename', 'sourceversion', 'device', 'creationdate', 'startdate',\n",
       "       'enddate', 'metadataentry', 'workoutevent', 'workoutroute'],\n",
       "      dtype='object')"
      ]
     },
     "execution_count": 11,
     "metadata": {},
     "output_type": "execute_result"
    }
   ],
   "source": [
    "workoutdata.columns"
   ]
  },
  {
   "cell_type": "code",
   "execution_count": 12,
   "metadata": {},
   "outputs": [
    {
     "data": {
      "text/plain": [
       "Index(['iso8601', 'fromdate', 'todate', 'bedtime', 'waketime', 'inbed',\n",
       "       'awake', 'fellasleepin', 'sessions', 'asleep', 'asleepavg7',\n",
       "       'efficiency', 'efficiencyavg7', 'quality', 'qualityavg7', 'deep',\n",
       "       'deepavg7', 'sleepbpm', 'sleepbpmavg7', 'daybpm', 'daybpmavg7',\n",
       "       'wakingbpm', 'wakingbpmavg7', 'hrv', 'hrvavg7', 'sleephrv',\n",
       "       'sleephrvavg7', 'spo2avg', 'spo2min', 'spo2max', 'respavg', 'respmin',\n",
       "       'respmax', 'tags', 'notes'],\n",
       "      dtype='object')"
      ]
     },
     "execution_count": 12,
     "metadata": {},
     "output_type": "execute_result"
    }
   ],
   "source": [
    "sleepdata.columns"
   ]
  },
  {
   "attachments": {},
   "cell_type": "markdown",
   "metadata": {},
   "source": [
    "The cleansehealthdata function takes in a DataFrame df and performs the following operations:\n",
    "\n",
    "Drops columns with more than 25% missing values using dropna function with thresh parameter.\n",
    "Renames the column 'type' to 'datatype'.\n",
    "Converts the creationdate, startdate, and enddate columns to datetime format and removes timezone information using pd.to_datetime and dt.tz_convert.\n",
    "Replaces the string 'HKQuantityTypeIdentifier' in the datatype column using str.replace.\n",
    "Replaces missing values in the device column with the string 'No device'.\n",
    "Removes rows where the value column is equal to 'HKCategoryValueSleepAnalysisInBed'.\n",
    "Removes rows where datatype is not one of the listed values.\n",
    "Drops any remaining missing values.\n",
    "Converts datatype to a categorical variable, sourcename to a categorical variable, and value to a float.\n",
    "\n",
    "\n",
    "The cleanseworkoutdata function takes in a DataFrame df and performs the following operations:\n",
    "\n",
    "Drops columns with more than 25% missing values using dropna function with thresh parameter.\n",
    "Drops the sourceversion column if it exists in the DataFrame.\n",
    "Renames the column 'workoutactivitytype' to 'workouttype' and 'metadataentry' to 'workoutname'.\n",
    "Replaces the string 'HKWorkoutActivityType' in the workouttype column using str.replace.\n",
    "Extracts the '@value' key from the workoutname column and replaces missing values with 'unknown'.\n",
    "Converts the creationdate, startdate, and enddate columns to datetime format and removes timezone information using pd.to_datetime and dt.tz_convert.\n",
    "Replaces missing values in the device column with the string 'No device'.\n",
    "Converts workouttype to a categorical variable, sourcename to a categorical variable, and workoutname to a categorical variable.\n",
    "Converts duration, totaldistance, and totalenergyburned to a float.\n",
    "Drops any remaining missing values.\n",
    "\n",
    "\n",
    "The cleansesleepdata function takes in a dataframe df as input and performs the following operations on it:\n",
    "\n",
    "Drops several columns specified by name:\n",
    "\n",
    "'asleepavg7', 'efficiencyavg7', 'qualityavg7', 'deepavg7', 'sleepbpmavg7', 'daybpmavg7','wakingbpmavg7', 'hrvavg7', 'sleephrvavg7', 'spo2avg', 'spo2min', 'spo2max', 'tags', 'notes'\n",
    "The argument 'axis = 1' specifies that we are dropping columns, not rows.\n",
    "The argument 'errors='ignore'' specifies that if any of the specified columns don't exist in the dataframe, the operation should be ignored and not raise an error.\n",
    "Drops any columns that have more than 1/4 of their values missing (NaN).\n",
    "\n",
    "The argument 'thresh = df.shape[0]//4' specifies that the number of non-NaN values must be greater than the number of rows divided by 4.\n",
    "The argument 'axis=1' specifies that we are dropping columns, not rows.\n",
    "Renames the 'iso8601' column to 'maindate'.\n",
    "\n",
    "Converts several columns to the following data types using the pd.to_datetime and pd.to_timedelta functions:\n",
    "\n",
    "'maindate': converted to a datetime data type and normalized (i.e. time information is removed)\n",
    "'fromdate', 'todate', 'bedtime', 'waketime': converted to a datetime data type\n",
    "'inbed', 'awake', 'fellasleepin', 'asleep', 'quality', 'deep': converted to a timedelta data type\n",
    "The modified dataframe is then returned as the output."
   ]
  },
  {
   "cell_type": "code",
   "execution_count": 13,
   "metadata": {},
   "outputs": [],
   "source": [
    "## Apple health data cleaner\n",
    "## @helper.cleanlabel\n",
    "def cleansehealthdata(df):\n",
    "    return (df\n",
    "     .dropna(thresh = df.shape[0]//4, axis=1)\n",
    "     .rename(columns ={'type': 'datatype'})\n",
    "     .assign(creationdate = lambda x: pd.to_datetime(x['creationdate']).dt.tz_convert(None),\n",
    "             startdate = lambda x: pd.to_datetime(x['startdate']).dt.tz_convert(None),\n",
    "             enddate = lambda x: pd.to_datetime(x['enddate']).dt.tz_convert(None),\n",
    "             datatype = lambda x: x['datatype'].str.replace('HKQuantityTypeIdentifier', ''),\n",
    "             device = lambda x: x['device'].fillna('No device'))\n",
    "     .query(\"value != 'HKCategoryValueSleepAnalysisInBed'\")\n",
    "     .query(\"datatype in ['BodyMassIndex', 'Height', 'BodyMass', 'HeartRate', \\\n",
    "                        'RespiratoryRate', 'BodyFatPercentage', 'LeanBodyMass',\\\n",
    "                        'StepCount', 'DistanceWalkingRunning', 'BasalEnergyBurned',\\\n",
    "                        'ActiveEnergyBurned', 'FlightsClimbed',\\\n",
    "                        'AppleExerciseTime', 'RestingHeartRate', 'VO2Max',\\\n",
    "                        'WalkingHeartRateAverage', 'EnvironmentalAudioExposure',\\\n",
    "                        'HeadphoneAudioExposure', 'WalkingDoubleSupportPercentage',\\\n",
    "                        'SixMinuteWalkTestDistance', 'AppleStandTime', 'WalkingSpeed',\\\n",
    "                        'WalkingStepLength', 'WalkingAsymmetryPercentage',\\\n",
    "                        'HKDataTypeSleepDurationGoal', 'AppleWalkingSteadiness',\\\n",
    "                        'HeartRateVariabilitySDNN'] \")\n",
    "     .dropna()\n",
    "     .astype({'datatype':'category', 'sourcename':'category','value':'float'})\n",
    "     )\n",
    "\n",
    "\n",
    "## Heart watch workout data cleaner\n",
    "## @helper.cleanlabel\n",
    "def cleanseworkoutdata(df):\n",
    "    return (\n",
    "        df\n",
    "        .dropna(thresh = df.shape[0]//4, axis=1)\n",
    "        .drop(['sourceversion'],\n",
    "            axis = 1, errors='ignore')\n",
    "        .rename(columns = {'workoutactivitytype': 'workouttype', 'metadataentry':'workoutname'})\n",
    "        .assign(\n",
    "            workouttype = lambda x: x['workouttype'].str.replace('HKWorkoutActivityType', ''),\n",
    "            workoutname = lambda x: x['workoutname'].apply(lambda x: x.get('@value')if isinstance(x, dict) else 'unknown'),\n",
    "            creationdate = lambda x: pd.to_datetime(x['creationdate']).dt.tz_convert(None),\n",
    "            startdate = lambda x: pd.to_datetime(x['startdate']).dt.tz_convert(None),\n",
    "            enddate = lambda x: pd.to_datetime(x['enddate']).dt.tz_convert(None),\n",
    "            device = lambda x: x['device'].fillna('No device')\n",
    "            )\n",
    "        .astype({'workouttype':'category', 'sourcename':'category', 'workoutname': 'category'})\n",
    "        .astype({'duration':'float', 'totaldistance':'float', 'totalenergyburned': 'float'})\n",
    "        .dropna()\n",
    "        )\n",
    "\n",
    "\n",
    "## Heart watch workout data cleaner\n",
    "## @helper.cleanlabel\n",
    "def cleansesleepdata(df):\n",
    "    return (\n",
    "      df.drop(['asleepavg7','efficiencyavg7','qualityavg7', 'deepavg7', \n",
    "            'sleepbpmavg7',  'daybpmavg7','wakingbpmavg7', 'hrvavg7',\n",
    "            'sleephrvavg7', 'spo2avg', 'spo2min', 'spo2max', 'tags', 'notes'],\n",
    "            axis = 1, errors='ignore')\n",
    "        .dropna(thresh = df.shape[0]//4, axis=1)\n",
    "        .rename(columns ={'iso8601': 'maindate'})\n",
    "        .assign(maindate = lambda x: pd.to_datetime(x['maindate'])\n",
    "                                        .dt.tz_convert(None).dt.normalize(),\n",
    "                fromdate = lambda x: pd.to_datetime(x['fromdate']),\n",
    "                todate = lambda x: pd.to_datetime(x['todate']),\n",
    "                bedtime = lambda x: pd.to_datetime(x['bedtime']),\n",
    "                waketime = lambda x: pd.to_datetime(x['waketime']),\n",
    "                inbed= lambda x: pd.to_timedelta(x['inbed']),\n",
    "                awake= lambda x: pd.to_timedelta(x['awake']),\n",
    "                fellasleepin= lambda x: pd.to_timedelta(x['fellasleepin']),\n",
    "                asleep= lambda x: pd.to_timedelta(x['asleep']),\n",
    "                quality= lambda x: pd.to_timedelta(x['quality']),\n",
    "                deep= lambda x: pd.to_timedelta(x['deep']),\n",
    "                )\n",
    "    )\n",
    "    #return df"
   ]
  },
  {
   "attachments": {},
   "cell_type": "markdown",
   "metadata": {},
   "source": [
    "The code calls three functions - cleansehealthdata, cleanseworkoutdata, and cleansesleepdata - with the healthdata, workoutdata, and sleepdata dataframes, respectively.\n",
    "\n",
    "The results of these function calls are stored in healthdata, workoutdata, and sleepdata variables, respectively, which means the original dataframes are being overwritten with the results of these cleaning and transformation operations."
   ]
  },
  {
   "cell_type": "code",
   "execution_count": 14,
   "metadata": {},
   "outputs": [],
   "source": [
    "healthdata = cleansehealthdata(healthdata)\n",
    "workoutdata = cleanseworkoutdata(workoutdata)\n",
    "sleepdata = cleansesleepdata(sleepdata)"
   ]
  },
  {
   "cell_type": "code",
   "execution_count": 15,
   "metadata": {},
   "outputs": [
    {
     "name": "stdout",
     "output_type": "stream",
     "text": [
      "<class 'pandas.core.frame.DataFrame'>\n",
      "Int64Index: 973928 entries, 0 to 986936\n",
      "Data columns (total 9 columns):\n",
      " #   Column         Non-Null Count   Dtype         \n",
      "---  ------         --------------   -----         \n",
      " 0   datatype       973928 non-null  category      \n",
      " 1   sourcename     973928 non-null  category      \n",
      " 2   sourceversion  973928 non-null  object        \n",
      " 3   unit           973928 non-null  object        \n",
      " 4   creationdate   973928 non-null  datetime64[ns]\n",
      " 5   startdate      973928 non-null  datetime64[ns]\n",
      " 6   enddate        973928 non-null  datetime64[ns]\n",
      " 7   value          973928 non-null  float64       \n",
      " 8   device         973928 non-null  object        \n",
      "dtypes: category(2), datetime64[ns](3), float64(1), object(3)\n",
      "memory usage: 61.3+ MB\n"
     ]
    }
   ],
   "source": [
    "healthdata.info()"
   ]
  },
  {
   "cell_type": "code",
   "execution_count": 16,
   "metadata": {},
   "outputs": [
    {
     "name": "stdout",
     "output_type": "stream",
     "text": [
      "<class 'pandas.core.frame.DataFrame'>\n",
      "RangeIndex: 333 entries, 0 to 332\n",
      "Data columns (total 21 columns):\n",
      " #   Column        Non-Null Count  Dtype          \n",
      "---  ------        --------------  -----          \n",
      " 0   maindate      333 non-null    datetime64[ns] \n",
      " 1   fromdate      333 non-null    datetime64[ns] \n",
      " 2   todate        333 non-null    datetime64[ns] \n",
      " 3   bedtime       333 non-null    datetime64[ns] \n",
      " 4   waketime      333 non-null    datetime64[ns] \n",
      " 5   inbed         333 non-null    timedelta64[ns]\n",
      " 6   awake         333 non-null    timedelta64[ns]\n",
      " 7   fellasleepin  331 non-null    timedelta64[ns]\n",
      " 8   sessions      333 non-null    int64          \n",
      " 9   asleep        333 non-null    timedelta64[ns]\n",
      " 10  efficiency    333 non-null    float64        \n",
      " 11  quality       331 non-null    timedelta64[ns]\n",
      " 12  deep          282 non-null    timedelta64[ns]\n",
      " 13  sleepbpm      331 non-null    float64        \n",
      " 14  daybpm        329 non-null    float64        \n",
      " 15  wakingbpm     333 non-null    float64        \n",
      " 16  hrv           333 non-null    int64          \n",
      " 17  sleephrv      330 non-null    float64        \n",
      " 18  respavg       331 non-null    float64        \n",
      " 19  respmin       331 non-null    float64        \n",
      " 20  respmax       331 non-null    float64        \n",
      "dtypes: datetime64[ns](5), float64(8), int64(2), timedelta64[ns](6)\n",
      "memory usage: 54.8 KB\n"
     ]
    }
   ],
   "source": [
    "sleepdata.info()"
   ]
  },
  {
   "cell_type": "code",
   "execution_count": 17,
   "metadata": {},
   "outputs": [
    {
     "name": "stdout",
     "output_type": "stream",
     "text": [
      "<class 'pandas.core.frame.DataFrame'>\n",
      "RangeIndex: 362 entries, 0 to 361\n",
      "Data columns (total 13 columns):\n",
      " #   Column                 Non-Null Count  Dtype         \n",
      "---  ------                 --------------  -----         \n",
      " 0   workouttype            362 non-null    category      \n",
      " 1   duration               362 non-null    float64       \n",
      " 2   durationunit           362 non-null    object        \n",
      " 3   totaldistance          362 non-null    float64       \n",
      " 4   totaldistanceunit      362 non-null    object        \n",
      " 5   totalenergyburned      362 non-null    float64       \n",
      " 6   totalenergyburnedunit  362 non-null    object        \n",
      " 7   sourcename             362 non-null    category      \n",
      " 8   device                 362 non-null    object        \n",
      " 9   creationdate           362 non-null    datetime64[ns]\n",
      " 10  startdate              362 non-null    datetime64[ns]\n",
      " 11  enddate                362 non-null    datetime64[ns]\n",
      " 12  workoutname            362 non-null    category      \n",
      "dtypes: category(3), datetime64[ns](3), float64(3), object(4)\n",
      "memory usage: 31.1+ KB\n"
     ]
    }
   ],
   "source": [
    "workoutdata.info()"
   ]
  },
  {
   "attachments": {},
   "cell_type": "markdown",
   "metadata": {},
   "source": [
    "The code saves a randomly selected sample of 10000 rows from the healthdata dataframe and all rows from the workoutdata and sleepdata dataframes into an Excel file named \"lifestyle.xlsx\". The sample from healthdata is saved in a sheet named \"health\", workoutdata is saved in a sheet named \"workout\", and sleepdata is saved in a sheet named \"sleep\". The index parameter is set to False which means that the index column will not be written to the Excel file. The code uses the pd.ExcelWriter class to write the dataframes to the Excel file, which provides a convenient way to write multiple dataframes to a single Excel file."
   ]
  },
  {
   "cell_type": "code",
   "execution_count": 18,
   "metadata": {},
   "outputs": [],
   "source": [
    "health_excel = healthdata.sample(10000)\n",
    "workout_excel = workoutdata.copy()\n",
    "sleep_excel = sleepdata.copy()\n",
    "\n",
    "with pd.ExcelWriter(\"lifestyle.xlsx\") as writer:\n",
    "    health_excel.to_excel(writer, sheet_name=\"health\", index=False)\n",
    "    workout_excel.to_excel(writer, sheet_name=\"workout\", index=False)\n",
    "    sleep_excel.to_excel(writer, sheet_name=\"sleep\", index=False)"
   ]
  },
  {
   "attachments": {},
   "cell_type": "markdown",
   "metadata": {},
   "source": [
    "This code is performing a series of operations to combine and analyze different types of lifestyle data, including health, workout, and sleep data. It uses the pandas library to manipulate the data stored in the dataframes healthdata, workoutdata, and sleepdata.\n",
    "\n",
    "The first step is to take a random sample of 10000 records from the healthdata dataframe and store it in health_excel. The entire workoutdata and sleepdata dataframes are stored in workout_excel and sleep_excel, respectively.\n",
    "\n",
    "In the next step, an ExcelWriter is initiated to write the data to a file named lifestyle.xlsx. The dataframes health_excel, workout_excel, and sleep_excel are written to separate sheets within the file, named \"health\", \"workout\", and \"sleep\", respectively.\n",
    "\n",
    "The next step is to create a new dataframe dayMerged by performing a series of operations, including grouping, merging, and querying the original dataframes. The operations performed on the dataframes are as follows:\n",
    "a. The healthdata dataframe is modified to include only records with specific datatypes and to convert the creationdate field to a normalized form.\n",
    "b. The resulting dataframe is grouped by the creationdate and datatype fields and the mean of the value field is calculated. This is stored in an unstacked format.\n",
    "c. The resulting dataframe is merged with a similar calculation performed on a subset of the datatypes in the healthdata dataframe.\n",
    "d. The resulting dataframe is then merged with the sleepdata dataframe after renaming its maindate field to creationdate and setting it as the index.\n",
    "e. The resulting dataframe is then merged with a calculation performed on the workoutdata dataframe, including summing the duration, totaldistance, and totalenergyburned fields.\n",
    "f. Finally, the resulting dataframe is merged with a calculation performed on specific datatypes in the healthdata dataframe, including finding the minimum and maximum values for the HeartRate and HeartRateVariabilitySDNN fields."
   ]
  },
  {
   "cell_type": "code",
   "execution_count": 19,
   "metadata": {},
   "outputs": [],
   "source": [
    "\n",
    "dayMerged = (\n",
    "    (healthdata\n",
    "        .assign(creationdate = lambda x: x.creationdate.dt.normalize())\n",
    "        .query(\"datatype in ['BodyMassIndex', 'Height', 'BodyMass', 'HeartRate', \\\n",
    "                                'RespiratoryRate', 'BodyFatPercentage', 'LeanBodyMass',\\\n",
    "                                'RestingHeartRate', 'VO2Max',\\\n",
    "                                'WalkingHeartRateAverage', 'EnvironmentalAudioExposure',\\\n",
    "                                'HeadphoneAudioExposure', 'WalkingDoubleSupportPercentage',\\\n",
    "                                'SixMinuteWalkTestDistance','WalkingSpeed',\\\n",
    "                                'WalkingStepLength', 'WalkingAsymmetryPercentage',\\\n",
    "                                'HKDataTypeSleepDurationGoal', 'AppleWalkingSteadiness',\\\n",
    "                                'HeartRateVariabilitySDNN'] \")\n",
    "        .groupby(['creationdate', 'datatype'],observed =True)['value'].mean().unstack()\n",
    "    )\n",
    "    ## merging the two DFs side by side\n",
    "    .merge(\n",
    "            (healthdata\n",
    "                .assign(creationdate = lambda x: x.creationdate.dt.normalize())\n",
    "                .query(\"datatype in ['StepCount', 'DistanceWalkingRunning', 'BasalEnergyBurned',\\\n",
    "                                        'ActiveEnergyBurned', 'FlightsClimbed',\\\n",
    "                                        'AppleExerciseTime',\\\n",
    "                                        'AppleStandTime']\")\n",
    "                .groupby(['creationdate', 'datatype'], observed =True)['value'].sum().unstack()\n",
    "            ),\n",
    "           how='outer', left_index=True, right_index=True\n",
    "    )\n",
    "    .merge(\n",
    "        (sleepdata\n",
    "            .rename(columns={'maindate':'creationdate'})\n",
    "            .set_index('creationdate')\n",
    "        ),\n",
    "        how='left', left_index=True, right_index=True\n",
    "    )\n",
    "    .merge(\n",
    "        (workoutdata.set_index('creationdate')\n",
    "            .groupby(pd.Grouper(freq='1D'))[['duration', 'totaldistance','totalenergyburned']]\n",
    "            .sum()\n",
    "        ),how='left', left_index=True, right_index=True\n",
    "    )\n",
    "    .merge(\n",
    "        (healthdata\n",
    "        .assign(creationdate = lambda x: x.creationdate.dt.normalize())\n",
    "        .query(\"datatype in ['HeartRate','HeartRateVariabilitySDNN'] \")\n",
    "        .groupby(['creationdate', 'datatype'],observed =True)['value'].agg(['min', 'max']).unstack()\n",
    "        .pipe(helper.flatten_cols)\n",
    "        ),how='left', left_index=True, right_index=True\n",
    "    )\n",
    ")\n"
   ]
  },
  {
   "cell_type": "code",
   "execution_count": 35,
   "metadata": {},
   "outputs": [
    {
     "name": "stdout",
     "output_type": "stream",
     "text": [
      "              BodyMassIndex  Height   BodyMass  HeartRate  RespiratoryRate  \\\n",
      "creationdate                                                                 \n",
      "2020-01-03             27.0   181.0  89.000000  72.473821        16.280488   \n",
      "2020-03-07             27.0   181.0  89.000000  72.473821        16.280488   \n",
      "2020-03-08             27.0   181.0  89.000000  72.473821        16.280488   \n",
      "2021-07-27             27.0   181.0  89.000000  72.473821        16.280488   \n",
      "2021-07-28             27.0   181.0  88.916667  72.473821        16.280488   \n",
      "\n",
      "              BodyFatPercentage  LeanBodyMass  RestingHeartRate  VO2Max  \\\n",
      "creationdate                                                              \n",
      "2020-01-03                0.172        73.278              67.0   31.38   \n",
      "2020-03-07                0.172        73.278              67.0   31.38   \n",
      "2020-03-08                0.172        73.278              67.0   31.38   \n",
      "2021-07-27                0.172        73.278              67.0   31.38   \n",
      "2021-07-28                0.172        73.278              67.0   31.38   \n",
      "\n",
      "              WalkingHeartRateAverage  ...  respavg  respmin  respmax  \\\n",
      "creationdate                           ...                              \n",
      "2020-01-03                        NaN  ...      NaN      NaN      NaN   \n",
      "2020-03-07                        NaN  ...      NaN      NaN      NaN   \n",
      "2020-03-08                        NaN  ...      NaN      NaN      NaN   \n",
      "2021-07-27                        NaN  ...      NaN      NaN      NaN   \n",
      "2021-07-28                        NaN  ...      NaN      NaN      NaN   \n",
      "\n",
      "              duration  totaldistance  totalenergyburned  min_HeartRate  \\\n",
      "creationdate                                                              \n",
      "2020-01-03         NaN            NaN                NaN            NaN   \n",
      "2020-03-07         NaN            NaN                NaN            NaN   \n",
      "2020-03-08         NaN            NaN                NaN            NaN   \n",
      "2021-07-27         NaN            NaN                NaN            NaN   \n",
      "2021-07-28         NaN            NaN                NaN            NaN   \n",
      "\n",
      "              min_HeartRateVariabilitySDNN  max_HeartRate  \\\n",
      "creationdate                                                \n",
      "2020-01-03                             NaN            NaN   \n",
      "2020-03-07                             NaN            NaN   \n",
      "2020-03-08                             NaN            NaN   \n",
      "2021-07-27                             NaN            NaN   \n",
      "2021-07-28                             NaN            NaN   \n",
      "\n",
      "              max_HeartRateVariabilitySDNN  \n",
      "creationdate                                \n",
      "2020-01-03                             NaN  \n",
      "2020-03-07                             NaN  \n",
      "2020-03-08                             NaN  \n",
      "2021-07-27                             NaN  \n",
      "2021-07-28                             NaN  \n",
      "\n",
      "[5 rows x 54 columns]\n"
     ]
    }
   ],
   "source": [
    "print(dayMerged.head())"
   ]
  },
  {
   "cell_type": "code",
   "execution_count": 20,
   "metadata": {},
   "outputs": [
    {
     "name": "stdout",
     "output_type": "stream",
     "text": [
      "<class 'pandas.core.frame.DataFrame'>\n",
      "DatetimeIndex: 371 entries, 2020-01-03 to 2022-09-09\n",
      "Data columns (total 54 columns):\n",
      " #   Column                          Non-Null Count  Dtype          \n",
      "---  ------                          --------------  -----          \n",
      " 0   BodyMassIndex                   74 non-null     float64        \n",
      " 1   Height                          1 non-null      float64        \n",
      " 2   BodyMass                        82 non-null     float64        \n",
      " 3   HeartRate                       335 non-null    float64        \n",
      " 4   RespiratoryRate                 334 non-null    float64        \n",
      " 5   BodyFatPercentage               74 non-null     float64        \n",
      " 6   LeanBodyMass                    74 non-null     float64        \n",
      " 7   RestingHeartRate                323 non-null    float64        \n",
      " 8   VO2Max                          36 non-null     float64        \n",
      " 9   WalkingHeartRateAverage         318 non-null    float64        \n",
      " 10  EnvironmentalAudioExposure      334 non-null    float64        \n",
      " 11  HeadphoneAudioExposure          333 non-null    float64        \n",
      " 12  WalkingDoubleSupportPercentage  292 non-null    float64        \n",
      " 13  SixMinuteWalkTestDistance       32 non-null     float64        \n",
      " 14  WalkingSpeed                    307 non-null    float64        \n",
      " 15  WalkingStepLength               307 non-null    float64        \n",
      " 16  WalkingAsymmetryPercentage      94 non-null     float64        \n",
      " 17  HKDataTypeSleepDurationGoal     3 non-null      float64        \n",
      " 18  AppleWalkingSteadiness          46 non-null     float64        \n",
      " 19  HeartRateVariabilitySDNN        334 non-null    float64        \n",
      " 20  StepCount                       337 non-null    float64        \n",
      " 21  DistanceWalkingRunning          346 non-null    float64        \n",
      " 22  BasalEnergyBurned               337 non-null    float64        \n",
      " 23  ActiveEnergyBurned              335 non-null    float64        \n",
      " 24  FlightsClimbed                  105 non-null    float64        \n",
      " 25  AppleExerciseTime               279 non-null    float64        \n",
      " 26  AppleStandTime                  334 non-null    float64        \n",
      " 27  fromdate                        332 non-null    datetime64[ns] \n",
      " 28  todate                          332 non-null    datetime64[ns] \n",
      " 29  bedtime                         332 non-null    datetime64[ns] \n",
      " 30  waketime                        332 non-null    datetime64[ns] \n",
      " 31  inbed                           332 non-null    timedelta64[ns]\n",
      " 32  awake                           332 non-null    timedelta64[ns]\n",
      " 33  fellasleepin                    330 non-null    timedelta64[ns]\n",
      " 34  sessions                        332 non-null    float64        \n",
      " 35  asleep                          332 non-null    timedelta64[ns]\n",
      " 36  efficiency                      332 non-null    float64        \n",
      " 37  quality                         330 non-null    timedelta64[ns]\n",
      " 38  deep                            282 non-null    timedelta64[ns]\n",
      " 39  sleepbpm                        330 non-null    float64        \n",
      " 40  daybpm                          329 non-null    float64        \n",
      " 41  wakingbpm                       332 non-null    float64        \n",
      " 42  hrv                             332 non-null    float64        \n",
      " 43  sleephrv                        330 non-null    float64        \n",
      " 44  respavg                         330 non-null    float64        \n",
      " 45  respmin                         330 non-null    float64        \n",
      " 46  respmax                         330 non-null    float64        \n",
      " 47  duration                        336 non-null    float64        \n",
      " 48  totaldistance                   336 non-null    float64        \n",
      " 49  totalenergyburned               336 non-null    float64        \n",
      " 50  min_HeartRate                   335 non-null    float64        \n",
      " 51  min_HeartRateVariabilitySDNN    334 non-null    float64        \n",
      " 52  max_HeartRate                   335 non-null    float64        \n",
      " 53  max_HeartRateVariabilitySDNN    334 non-null    float64        \n",
      "dtypes: datetime64[ns](4), float64(44), timedelta64[ns](6)\n",
      "memory usage: 167.5 KB\n"
     ]
    }
   ],
   "source": [
    "dayMerged.info()"
   ]
  },
  {
   "cell_type": "code",
   "execution_count": 21,
   "metadata": {},
   "outputs": [
    {
     "name": "stdout",
     "output_type": "stream",
     "text": [
      "<class 'pandas.core.frame.DataFrame'>\n",
      "Int64Index: 973928 entries, 0 to 986936\n",
      "Data columns (total 9 columns):\n",
      " #   Column         Non-Null Count   Dtype         \n",
      "---  ------         --------------   -----         \n",
      " 0   datatype       973928 non-null  category      \n",
      " 1   sourcename     973928 non-null  category      \n",
      " 2   sourceversion  973928 non-null  object        \n",
      " 3   unit           973928 non-null  object        \n",
      " 4   creationdate   973928 non-null  datetime64[ns]\n",
      " 5   startdate      973928 non-null  datetime64[ns]\n",
      " 6   enddate        973928 non-null  datetime64[ns]\n",
      " 7   value          973928 non-null  float64       \n",
      " 8   device         973928 non-null  object        \n",
      "dtypes: category(2), datetime64[ns](3), float64(1), object(3)\n",
      "memory usage: 61.3+ MB\n"
     ]
    }
   ],
   "source": [
    "healthdata.info()"
   ]
  },
  {
   "cell_type": "code",
   "execution_count": 22,
   "metadata": {},
   "outputs": [
    {
     "name": "stdout",
     "output_type": "stream",
     "text": [
      "DataFrame full loaded to Table: health\n"
     ]
    }
   ],
   "source": [
    "custom={\"id\":\"INT PRIMARY KEY\",\n",
    "        \"creationdate\": \"DATETIME\",\n",
    "        \"startdate\": \"DATETIME\",\n",
    "        \"enddate\": \"DATETIME\",\n",
    "        }\n",
    "dataloader.full_load(df = healthdata, tbl = \"health\", hasindex = False, custom = custom)"
   ]
  },
  {
   "cell_type": "code",
   "execution_count": 23,
   "metadata": {},
   "outputs": [
    {
     "name": "stdout",
     "output_type": "stream",
     "text": [
      "<class 'pandas.core.frame.DataFrame'>\n",
      "RangeIndex: 362 entries, 0 to 361\n",
      "Data columns (total 13 columns):\n",
      " #   Column                 Non-Null Count  Dtype         \n",
      "---  ------                 --------------  -----         \n",
      " 0   workouttype            362 non-null    category      \n",
      " 1   duration               362 non-null    float64       \n",
      " 2   durationunit           362 non-null    object        \n",
      " 3   totaldistance          362 non-null    float64       \n",
      " 4   totaldistanceunit      362 non-null    object        \n",
      " 5   totalenergyburned      362 non-null    float64       \n",
      " 6   totalenergyburnedunit  362 non-null    object        \n",
      " 7   sourcename             362 non-null    category      \n",
      " 8   device                 362 non-null    object        \n",
      " 9   creationdate           362 non-null    datetime64[ns]\n",
      " 10  startdate              362 non-null    datetime64[ns]\n",
      " 11  enddate                362 non-null    datetime64[ns]\n",
      " 12  workoutname            362 non-null    category      \n",
      "dtypes: category(3), datetime64[ns](3), float64(3), object(4)\n",
      "memory usage: 31.1+ KB\n"
     ]
    }
   ],
   "source": [
    "workoutdata.info()"
   ]
  },
  {
   "cell_type": "code",
   "execution_count": 24,
   "metadata": {},
   "outputs": [
    {
     "name": "stdout",
     "output_type": "stream",
     "text": [
      "DataFrame full loaded to Table: workout\n"
     ]
    }
   ],
   "source": [
    "custom={\"id\":\"INT PRIMARY KEY\",\n",
    "        \"creationdate\": \"DATETIME\",\n",
    "        \"startdate\": \"DATETIME\",\n",
    "        \"enddate\": \"DATETIME\",\n",
    "        }\n",
    "dataloader.full_load(df = workoutdata, tbl = \"workout\", hasindex = False, custom = custom)"
   ]
  },
  {
   "cell_type": "code",
   "execution_count": 25,
   "metadata": {},
   "outputs": [
    {
     "name": "stdout",
     "output_type": "stream",
     "text": [
      "<class 'pandas.core.frame.DataFrame'>\n",
      "RangeIndex: 333 entries, 0 to 332\n",
      "Data columns (total 21 columns):\n",
      " #   Column        Non-Null Count  Dtype          \n",
      "---  ------        --------------  -----          \n",
      " 0   maindate      333 non-null    datetime64[ns] \n",
      " 1   fromdate      333 non-null    datetime64[ns] \n",
      " 2   todate        333 non-null    datetime64[ns] \n",
      " 3   bedtime       333 non-null    datetime64[ns] \n",
      " 4   waketime      333 non-null    datetime64[ns] \n",
      " 5   inbed         333 non-null    timedelta64[ns]\n",
      " 6   awake         333 non-null    timedelta64[ns]\n",
      " 7   fellasleepin  331 non-null    timedelta64[ns]\n",
      " 8   sessions      333 non-null    int64          \n",
      " 9   asleep        333 non-null    timedelta64[ns]\n",
      " 10  efficiency    333 non-null    float64        \n",
      " 11  quality       331 non-null    timedelta64[ns]\n",
      " 12  deep          282 non-null    timedelta64[ns]\n",
      " 13  sleepbpm      331 non-null    float64        \n",
      " 14  daybpm        329 non-null    float64        \n",
      " 15  wakingbpm     333 non-null    float64        \n",
      " 16  hrv           333 non-null    int64          \n",
      " 17  sleephrv      330 non-null    float64        \n",
      " 18  respavg       331 non-null    float64        \n",
      " 19  respmin       331 non-null    float64        \n",
      " 20  respmax       331 non-null    float64        \n",
      "dtypes: datetime64[ns](5), float64(8), int64(2), timedelta64[ns](6)\n",
      "memory usage: 54.8 KB\n"
     ]
    }
   ],
   "source": [
    "sleepdata.info()"
   ]
  },
  {
   "cell_type": "code",
   "execution_count": null,
   "metadata": {},
   "outputs": [],
   "source": []
  },
  {
   "cell_type": "code",
   "execution_count": 26,
   "metadata": {},
   "outputs": [
    {
     "name": "stdout",
     "output_type": "stream",
     "text": [
      "<class 'pandas.core.frame.DataFrame'>\n",
      "RangeIndex: 333 entries, 0 to 332\n",
      "Data columns (total 21 columns):\n",
      " #   Column        Non-Null Count  Dtype          \n",
      "---  ------        --------------  -----          \n",
      " 0   maindate      333 non-null    datetime64[ns] \n",
      " 1   fromdate      333 non-null    datetime64[ns] \n",
      " 2   todate        333 non-null    datetime64[ns] \n",
      " 3   bedtime       333 non-null    datetime64[ns] \n",
      " 4   waketime      333 non-null    datetime64[ns] \n",
      " 5   inbed         333 non-null    timedelta64[ns]\n",
      " 6   awake         333 non-null    timedelta64[ns]\n",
      " 7   fellasleepin  331 non-null    timedelta64[ns]\n",
      " 8   sessions      333 non-null    int64          \n",
      " 9   asleep        333 non-null    timedelta64[ns]\n",
      " 10  efficiency    333 non-null    float64        \n",
      " 11  quality       331 non-null    timedelta64[ns]\n",
      " 12  deep          282 non-null    timedelta64[ns]\n",
      " 13  sleepbpm      331 non-null    float64        \n",
      " 14  daybpm        329 non-null    float64        \n",
      " 15  wakingbpm     333 non-null    float64        \n",
      " 16  hrv           333 non-null    int64          \n",
      " 17  sleephrv      330 non-null    float64        \n",
      " 18  respavg       331 non-null    float64        \n",
      " 19  respmin       331 non-null    float64        \n",
      " 20  respmax       331 non-null    float64        \n",
      "dtypes: datetime64[ns](5), float64(8), int64(2), timedelta64[ns](6)\n",
      "memory usage: 54.8 KB\n"
     ]
    }
   ],
   "source": [
    "sleepdata.info()"
   ]
  },
  {
   "cell_type": "code",
   "execution_count": 27,
   "metadata": {},
   "outputs": [
    {
     "name": "stdout",
     "output_type": "stream",
     "text": [
      "DataFrame full loaded to Table: sleep\n"
     ]
    }
   ],
   "source": [
    "custom={\"id\":\"INT PRIMARY KEY\",\n",
    "        \"maindate\": \"DATE\",\n",
    "        \"fromdate\": \"DATE\",\n",
    "        \"todate\": \"DATE\",\n",
    "        \"bedtime\": \"DATETIME2\",\n",
    "        \"waketime\": \"DATETIME2\",\n",
    "        }\n",
    "dataloader.full_load(df = sleepdata, tbl = \"sleep\", hasindex = False, custom = custom)"
   ]
  },
  {
   "cell_type": "code",
   "execution_count": 28,
   "metadata": {},
   "outputs": [
    {
     "name": "stdout",
     "output_type": "stream",
     "text": [
      "<class 'pandas.core.frame.DataFrame'>\n",
      "DatetimeIndex: 371 entries, 2020-01-03 to 2022-09-09\n",
      "Data columns (total 54 columns):\n",
      " #   Column                          Non-Null Count  Dtype          \n",
      "---  ------                          --------------  -----          \n",
      " 0   BodyMassIndex                   74 non-null     float64        \n",
      " 1   Height                          1 non-null      float64        \n",
      " 2   BodyMass                        82 non-null     float64        \n",
      " 3   HeartRate                       335 non-null    float64        \n",
      " 4   RespiratoryRate                 334 non-null    float64        \n",
      " 5   BodyFatPercentage               74 non-null     float64        \n",
      " 6   LeanBodyMass                    74 non-null     float64        \n",
      " 7   RestingHeartRate                323 non-null    float64        \n",
      " 8   VO2Max                          36 non-null     float64        \n",
      " 9   WalkingHeartRateAverage         318 non-null    float64        \n",
      " 10  EnvironmentalAudioExposure      334 non-null    float64        \n",
      " 11  HeadphoneAudioExposure          333 non-null    float64        \n",
      " 12  WalkingDoubleSupportPercentage  292 non-null    float64        \n",
      " 13  SixMinuteWalkTestDistance       32 non-null     float64        \n",
      " 14  WalkingSpeed                    307 non-null    float64        \n",
      " 15  WalkingStepLength               307 non-null    float64        \n",
      " 16  WalkingAsymmetryPercentage      94 non-null     float64        \n",
      " 17  HKDataTypeSleepDurationGoal     3 non-null      float64        \n",
      " 18  AppleWalkingSteadiness          46 non-null     float64        \n",
      " 19  HeartRateVariabilitySDNN        334 non-null    float64        \n",
      " 20  StepCount                       337 non-null    float64        \n",
      " 21  DistanceWalkingRunning          346 non-null    float64        \n",
      " 22  BasalEnergyBurned               337 non-null    float64        \n",
      " 23  ActiveEnergyBurned              335 non-null    float64        \n",
      " 24  FlightsClimbed                  105 non-null    float64        \n",
      " 25  AppleExerciseTime               279 non-null    float64        \n",
      " 26  AppleStandTime                  334 non-null    float64        \n",
      " 27  fromdate                        332 non-null    datetime64[ns] \n",
      " 28  todate                          332 non-null    datetime64[ns] \n",
      " 29  bedtime                         332 non-null    datetime64[ns] \n",
      " 30  waketime                        332 non-null    datetime64[ns] \n",
      " 31  inbed                           332 non-null    timedelta64[ns]\n",
      " 32  awake                           332 non-null    timedelta64[ns]\n",
      " 33  fellasleepin                    330 non-null    timedelta64[ns]\n",
      " 34  sessions                        332 non-null    float64        \n",
      " 35  asleep                          332 non-null    timedelta64[ns]\n",
      " 36  efficiency                      332 non-null    float64        \n",
      " 37  quality                         330 non-null    timedelta64[ns]\n",
      " 38  deep                            282 non-null    timedelta64[ns]\n",
      " 39  sleepbpm                        330 non-null    float64        \n",
      " 40  daybpm                          329 non-null    float64        \n",
      " 41  wakingbpm                       332 non-null    float64        \n",
      " 42  hrv                             332 non-null    float64        \n",
      " 43  sleephrv                        330 non-null    float64        \n",
      " 44  respavg                         330 non-null    float64        \n",
      " 45  respmin                         330 non-null    float64        \n",
      " 46  respmax                         330 non-null    float64        \n",
      " 47  duration                        336 non-null    float64        \n",
      " 48  totaldistance                   336 non-null    float64        \n",
      " 49  totalenergyburned               336 non-null    float64        \n",
      " 50  min_HeartRate                   335 non-null    float64        \n",
      " 51  min_HeartRateVariabilitySDNN    334 non-null    float64        \n",
      " 52  max_HeartRate                   335 non-null    float64        \n",
      " 53  max_HeartRateVariabilitySDNN    334 non-null    float64        \n",
      "dtypes: datetime64[ns](4), float64(44), timedelta64[ns](6)\n",
      "memory usage: 167.5 KB\n"
     ]
    }
   ],
   "source": [
    "dayMerged.info()"
   ]
  },
  {
   "cell_type": "code",
   "execution_count": 29,
   "metadata": {},
   "outputs": [],
   "source": [
    "dayMerged=(\n",
    "    dayMerged\n",
    "       .rename(columns = {'HeartRateVariabilitySDNN':'hrvstd'})\n",
    "       #.dropna(subset=['HeartRate', 'RestingHeartRate','hrv'], how='all', axis=0)\n",
    "       .assign(BodyMassIndex = lambda x: x['BodyMassIndex'].interpolate().bfill(),\n",
    "               Height = lambda x: x['Height'].interpolate().bfill(),\n",
    "               BodyMass = lambda x: x['BodyMass'].interpolate().bfill(),\n",
    "               HeartRate = lambda x: x['HeartRate'].interpolate().bfill(),\n",
    "               RespiratoryRate = lambda x: x['RespiratoryRate'].interpolate().bfill(),\n",
    "               BodyFatPercentage = lambda x: x['BodyFatPercentage'].interpolate().bfill(),\n",
    "               LeanBodyMass = lambda x: x['LeanBodyMass'].interpolate().bfill(),\n",
    "               RestingHeartRate = lambda x: x['RestingHeartRate'].interpolate().bfill(),\n",
    "               VO2Max = lambda x: x['VO2Max'].interpolate().bfill(),\n",
    "               hrvstd = lambda x: x['hrvstd'].interpolate().bfill(),\n",
    "               )\n",
    "    #    .query(\"creationdate > '2021-09-14'\")\n",
    "    #    .interpolate()\n",
    "    #    .dropna()\n",
    ")"
   ]
  },
  {
   "cell_type": "code",
   "execution_count": 30,
   "metadata": {},
   "outputs": [
    {
     "name": "stdout",
     "output_type": "stream",
     "text": [
      "<class 'pandas.core.frame.DataFrame'>\n",
      "DatetimeIndex: 371 entries, 2020-01-03 to 2022-09-09\n",
      "Data columns (total 54 columns):\n",
      " #   Column                          Non-Null Count  Dtype          \n",
      "---  ------                          --------------  -----          \n",
      " 0   BodyMassIndex                   371 non-null    float64        \n",
      " 1   Height                          371 non-null    float64        \n",
      " 2   BodyMass                        371 non-null    float64        \n",
      " 3   HeartRate                       371 non-null    float64        \n",
      " 4   RespiratoryRate                 371 non-null    float64        \n",
      " 5   BodyFatPercentage               371 non-null    float64        \n",
      " 6   LeanBodyMass                    371 non-null    float64        \n",
      " 7   RestingHeartRate                371 non-null    float64        \n",
      " 8   VO2Max                          371 non-null    float64        \n",
      " 9   WalkingHeartRateAverage         318 non-null    float64        \n",
      " 10  EnvironmentalAudioExposure      334 non-null    float64        \n",
      " 11  HeadphoneAudioExposure          333 non-null    float64        \n",
      " 12  WalkingDoubleSupportPercentage  292 non-null    float64        \n",
      " 13  SixMinuteWalkTestDistance       32 non-null     float64        \n",
      " 14  WalkingSpeed                    307 non-null    float64        \n",
      " 15  WalkingStepLength               307 non-null    float64        \n",
      " 16  WalkingAsymmetryPercentage      94 non-null     float64        \n",
      " 17  HKDataTypeSleepDurationGoal     3 non-null      float64        \n",
      " 18  AppleWalkingSteadiness          46 non-null     float64        \n",
      " 19  hrvstd                          371 non-null    float64        \n",
      " 20  StepCount                       337 non-null    float64        \n",
      " 21  DistanceWalkingRunning          346 non-null    float64        \n",
      " 22  BasalEnergyBurned               337 non-null    float64        \n",
      " 23  ActiveEnergyBurned              335 non-null    float64        \n",
      " 24  FlightsClimbed                  105 non-null    float64        \n",
      " 25  AppleExerciseTime               279 non-null    float64        \n",
      " 26  AppleStandTime                  334 non-null    float64        \n",
      " 27  fromdate                        332 non-null    datetime64[ns] \n",
      " 28  todate                          332 non-null    datetime64[ns] \n",
      " 29  bedtime                         332 non-null    datetime64[ns] \n",
      " 30  waketime                        332 non-null    datetime64[ns] \n",
      " 31  inbed                           332 non-null    timedelta64[ns]\n",
      " 32  awake                           332 non-null    timedelta64[ns]\n",
      " 33  fellasleepin                    330 non-null    timedelta64[ns]\n",
      " 34  sessions                        332 non-null    float64        \n",
      " 35  asleep                          332 non-null    timedelta64[ns]\n",
      " 36  efficiency                      332 non-null    float64        \n",
      " 37  quality                         330 non-null    timedelta64[ns]\n",
      " 38  deep                            282 non-null    timedelta64[ns]\n",
      " 39  sleepbpm                        330 non-null    float64        \n",
      " 40  daybpm                          329 non-null    float64        \n",
      " 41  wakingbpm                       332 non-null    float64        \n",
      " 42  hrv                             332 non-null    float64        \n",
      " 43  sleephrv                        330 non-null    float64        \n",
      " 44  respavg                         330 non-null    float64        \n",
      " 45  respmin                         330 non-null    float64        \n",
      " 46  respmax                         330 non-null    float64        \n",
      " 47  duration                        336 non-null    float64        \n",
      " 48  totaldistance                   336 non-null    float64        \n",
      " 49  totalenergyburned               336 non-null    float64        \n",
      " 50  min_HeartRate                   335 non-null    float64        \n",
      " 51  min_HeartRateVariabilitySDNN    334 non-null    float64        \n",
      " 52  max_HeartRate                   335 non-null    float64        \n",
      " 53  max_HeartRateVariabilitySDNN    334 non-null    float64        \n",
      "dtypes: datetime64[ns](4), float64(44), timedelta64[ns](6)\n",
      "memory usage: 167.5 KB\n"
     ]
    }
   ],
   "source": [
    "dayMerged.info()"
   ]
  },
  {
   "cell_type": "code",
   "execution_count": 31,
   "metadata": {},
   "outputs": [
    {
     "name": "stdout",
     "output_type": "stream",
     "text": [
      "DataFrame full loaded to Table: dayMerged\n"
     ]
    }
   ],
   "source": [
    "custom={\"id\":\"INT PRIMARY KEY\",\n",
    "        \"creationdate\": \"DATE\",\n",
    "        \"fromdate\": \"DATE\",\n",
    "        \"todate\": \"DATE\",\n",
    "        \"bedtime\": \"DATETIME2\",\n",
    "        \"waketime\": \"DATETIME2\",\n",
    "        }\n",
    "dataloader.full_load(df = dayMerged.pipe(helper.timetoseconds), tbl = \"dayMerged\", hasindex = True, custom = custom)"
   ]
  },
  {
   "cell_type": "code",
   "execution_count": 32,
   "metadata": {},
   "outputs": [
    {
     "data": {
      "text/plain": [
       "<module 'dataloader' from '/Users/ganesh/Documents/ImportantWork/CleanRepo/Lifestyle/dataloader.py'>"
      ]
     },
     "execution_count": 32,
     "metadata": {},
     "output_type": "execute_result"
    }
   ],
   "source": [
    "import importlib\n",
    "importlib.reload(helper)\n",
    "importlib.reload(dataloader)"
   ]
  },
  {
   "cell_type": "code",
   "execution_count": 33,
   "metadata": {},
   "outputs": [
    {
     "name": "stdout",
     "output_type": "stream",
     "text": [
      "<class 'pandas.core.frame.DataFrame'>\n",
      "DatetimeIndex: 371 entries, 2020-01-03 to 2022-09-09\n",
      "Data columns (total 54 columns):\n",
      " #   Column                          Non-Null Count  Dtype \n",
      "---  ------                          --------------  ----- \n",
      " 0   BodyMassIndex                   371 non-null    object\n",
      " 1   Height                          371 non-null    object\n",
      " 2   BodyMass                        371 non-null    object\n",
      " 3   HeartRate                       371 non-null    object\n",
      " 4   RespiratoryRate                 371 non-null    object\n",
      " 5   BodyFatPercentage               371 non-null    object\n",
      " 6   LeanBodyMass                    371 non-null    object\n",
      " 7   RestingHeartRate                371 non-null    object\n",
      " 8   VO2Max                          371 non-null    object\n",
      " 9   WalkingHeartRateAverage         318 non-null    object\n",
      " 10  EnvironmentalAudioExposure      334 non-null    object\n",
      " 11  HeadphoneAudioExposure          333 non-null    object\n",
      " 12  WalkingDoubleSupportPercentage  292 non-null    object\n",
      " 13  SixMinuteWalkTestDistance       32 non-null     object\n",
      " 14  WalkingSpeed                    307 non-null    object\n",
      " 15  WalkingStepLength               307 non-null    object\n",
      " 16  WalkingAsymmetryPercentage      94 non-null     object\n",
      " 17  HKDataTypeSleepDurationGoal     3 non-null      object\n",
      " 18  AppleWalkingSteadiness          46 non-null     object\n",
      " 19  hrvstd                          371 non-null    object\n",
      " 20  StepCount                       337 non-null    object\n",
      " 21  DistanceWalkingRunning          346 non-null    object\n",
      " 22  BasalEnergyBurned               337 non-null    object\n",
      " 23  ActiveEnergyBurned              335 non-null    object\n",
      " 24  FlightsClimbed                  105 non-null    object\n",
      " 25  AppleExerciseTime               279 non-null    object\n",
      " 26  AppleStandTime                  334 non-null    object\n",
      " 27  fromdate                        332 non-null    object\n",
      " 28  todate                          332 non-null    object\n",
      " 29  bedtime                         332 non-null    object\n",
      " 30  waketime                        332 non-null    object\n",
      " 31  inbed                           332 non-null    object\n",
      " 32  awake                           332 non-null    object\n",
      " 33  fellasleepin                    330 non-null    object\n",
      " 34  sessions                        332 non-null    object\n",
      " 35  asleep                          332 non-null    object\n",
      " 36  efficiency                      332 non-null    object\n",
      " 37  quality                         330 non-null    object\n",
      " 38  deep                            282 non-null    object\n",
      " 39  sleepbpm                        330 non-null    object\n",
      " 40  daybpm                          329 non-null    object\n",
      " 41  wakingbpm                       332 non-null    object\n",
      " 42  hrv                             332 non-null    object\n",
      " 43  sleephrv                        330 non-null    object\n",
      " 44  respavg                         330 non-null    object\n",
      " 45  respmin                         330 non-null    object\n",
      " 46  respmax                         330 non-null    object\n",
      " 47  duration                        336 non-null    object\n",
      " 48  totaldistance                   336 non-null    object\n",
      " 49  totalenergyburned               336 non-null    object\n",
      " 50  min_HeartRate                   335 non-null    object\n",
      " 51  min_HeartRateVariabilitySDNN    334 non-null    object\n",
      " 52  max_HeartRate                   335 non-null    object\n",
      " 53  max_HeartRateVariabilitySDNN    334 non-null    object\n",
      "dtypes: object(54)\n",
      "memory usage: 167.5+ KB\n"
     ]
    }
   ],
   "source": [
    "dayMerged.pipe(helper.timetoseconds).replace({np.NaN: None}).info()"
   ]
  },
  {
   "cell_type": "code",
   "execution_count": 52,
   "metadata": {},
   "outputs": [
    {
     "data": {
      "image/png": "[encoded data removed]",
      "text/plain": [
       "<Figure size 640x480 with 1 Axes>"
      ]
     },
     "metadata": {},
     "output_type": "display_data"
    }
   ],
   "source": [
    "ax = dayMerged['ActiveEnergyBurned'].plot()\n",
    "dayMerged['ActiveEnergyBurned'].rolling(5).mean().plot(ax= ax)\n",
    "plt.show()"
   ]
  },
  {
   "cell_type": "code",
   "execution_count": null,
   "metadata": {},
   "outputs": [],
   "source": []
  }
 ],
 "metadata": {
  "kernelspec": {
   "display_name": "Python 3",
   "language": "python",
   "name": "python3"
  },
  "language_info": {
   "codemirror_mode": {
    "name": "ipython",
    "version": 3
   },
   "file_extension": ".py",
   "mimetype": "text/x-python",
   "name": "python",
   "nbconvert_exporter": "python",
   "pygments_lexer": "ipython3",
   "version": "3.10.8"
  },
  "orig_nbformat": 4,
  "vscode": {
   "interpreter": {
    "hash": "b0fa6594d8f4cbf19f97940f81e996739fb7646882a419484c72d19e05852a7e"
   }
  }
 },
 "nbformat": 4,
 "nbformat_minor": 2
}
